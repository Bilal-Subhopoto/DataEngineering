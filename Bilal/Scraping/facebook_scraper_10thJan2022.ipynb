{
  "nbformat": 4,
  "nbformat_minor": 0,
  "metadata": {
    "colab": {
      "name": "facebook_scraper_10thJan2022.ipynb",
      "provenance": [],
      "collapsed_sections": [],
      "authorship_tag": "ABX9TyPDSQt3Abeu47/az1egFmqk",
      "include_colab_link": true
    },
    "kernelspec": {
      "name": "python3",
      "display_name": "Python 3"
    },
    "language_info": {
      "name": "python"
    }
  },
  "cells": [
    {
      "cell_type": "markdown",
      "metadata": {
        "id": "view-in-github",
        "colab_type": "text"
      },
      "source": [
        "<a href=\"https://colab.research.google.com/github/Bilal-Subhopoto/DataEngineering/blob/main/Bilal/Scraping/facebook_scraper_10thJan2022.ipynb\" target=\"_parent\"><img src=\"https://colab.research.google.com/assets/colab-badge.svg\" alt=\"Open In Colab\"/></a>"
      ]
    },
    {
      "cell_type": "code",
      "source": [
        "!pip install facebook_scraper"
      ],
      "metadata": {
        "id": "-0D2zFtDNsWH"
      },
      "execution_count": null,
      "outputs": []
    },
    {
      "cell_type": "code",
      "source": [
        "!pip install -U lxml"
      ],
      "metadata": {
        "colab": {
          "base_uri": "https://localhost:8080/"
        },
        "id": "W8t5_bl1WjIX",
        "outputId": "3132f8fd-186d-44ea-f3c8-3cb8c087aabc"
      },
      "execution_count": null,
      "outputs": [
        {
          "output_type": "stream",
          "name": "stdout",
          "text": [
            "Requirement already satisfied: lxml in /usr/local/lib/python3.7/dist-packages (4.2.6)\n",
            "Collecting lxml\n",
            "  Downloading lxml-4.7.1-cp37-cp37m-manylinux_2_17_x86_64.manylinux2014_x86_64.manylinux_2_24_x86_64.whl (6.4 MB)\n",
            "\u001b[K     |████████████████████████████████| 6.4 MB 7.3 MB/s \n",
            "\u001b[?25hInstalling collected packages: lxml\n",
            "  Attempting uninstall: lxml\n",
            "    Found existing installation: lxml 4.2.6\n",
            "    Uninstalling lxml-4.2.6:\n",
            "      Successfully uninstalled lxml-4.2.6\n",
            "Successfully installed lxml-4.7.1\n"
          ]
        }
      ]
    },
    {
      "cell_type": "code",
      "source": [
        "from facebook_scraper import*\n",
        "import time\n",
        "import random\n",
        "import pymongo\n",
        "myclient = pymongo.MongoClient(\"mongodb://43.251.253.107:1600/\")\n",
        "mydb = myclient['Facebook-Scraper_10thJan2022']\n",
        "mycol = mydb['Allposts']"
      ],
      "metadata": {
        "id": "Qt-zlzvUNjXd"
      },
      "execution_count": null,
      "outputs": []
    },
    {
      "cell_type": "code",
      "source": [
        "# read the contents of a txt file and make a list\n",
        "with open('/content/pageNames.txt', 'r') as B:\n",
        "    fbPages = [line.strip() for line in B]\n",
        "len(fbPages)\n",
        "print(len(fbPages))"
      ],
      "metadata": {
        "colab": {
          "base_uri": "https://localhost:8080/"
        },
        "id": "IU07L_GSNd-s",
        "outputId": "32ddd293-6814-4cf7-c074-7d8221e32986"
      },
      "execution_count": null,
      "outputs": [
        {
          "output_type": "stream",
          "name": "stdout",
          "text": [
            "3842\n"
          ]
        }
      ]
    },
    {
      "cell_type": "code",
      "execution_count": null,
      "metadata": {
        "id": "7z9Uri0PNUIe"
      },
      "outputs": [],
      "source": [
        "def FBscraper(PAGES,COOKIES):\n",
        "  pgs = 0\n",
        "  # fb urls to extract posts data and upload on DB-1\n",
        "  fields = ('comments','link','likes','images','shared_time','text','post_id','reactions','shares','user_id','time','timestamp','time')\n",
        "  # fbPages = ('ABCNews','cnn','NBCNews','mlive','TheIndependentOnline','thedailybeast','WashingtonExaminer','Gawker','Upworthy','chroncom','Slate','bleacherreport','EliteDaily','washingtonpost','DailyMail','nytimes','BuzzFeed','usatoday','CBSNews','HuffPost')\n",
        "  for fbp in fbPages:\n",
        "    try:\n",
        "      time.sleep(random.randint(25,60))\n",
        "      print(fbp)\n",
        "      psts = 0        \n",
        "      for post in get_posts(fbp, pages= PAGES ,cookies= COOKIES):\n",
        "        collection = {'pageName':fbp}  \n",
        "        time.sleep(random.randint(5,15))\n",
        "        for items in fields:\n",
        "          collection[items] = (post[items])\n",
        "            \n",
        "        x = mycol.insert_one(collection)\n",
        "        psts +=1 #increment posts count    \n",
        "      print('number of posts per page: ',psts)\n",
        "      pgs +=1#increment page count\n",
        "      fbPages.remove(fbp)\n",
        "      print('number of FB pages scraped: ', pgs)\n",
        "      if (pgs == 10):\n",
        "        break\n",
        "    except exceptions.TemporarilyBanned:\n",
        "      print(\"Temporarily banned, sleeping for 10m\")\n",
        "      print('number of FB pages scraped before error : ', pgs)\n",
        "      time.sleep(600)\n",
        "      break"
      ]
    },
    {
      "cell_type": "code",
      "source": [
        "cookiesAdd = ['/content/Cookies_BabarAzam.txt','/content/Cookies_FawadKhan.txt','/content/Cookies_IrfanKhan.txt','/content/Cookies_SaifMagsi.txt']\n",
        "cookiesAdd"
      ],
      "metadata": {
        "id": "9h7oyX6FX-s5"
      },
      "execution_count": null,
      "outputs": []
    },
    {
      "cell_type": "code",
      "source": [
        "credentials=random.choice(cookiesAdd)#choose a random cookies file.\n",
        "count=0 #initialize counter for number of pages scraped to jump to change cookies file and continue scraping.\n",
        "countacc =0\n",
        "while(1):\n",
        "  if(count==2):# if number of pages becomes 'pgs = 20', change cookies file.\n",
        "    count=0\n",
        "    credentials=random.choice(cookiesAdd)# choose a random cookies file.\n",
        "    countacc +=1\n",
        "    print('number of credentials changed: ', countacc)\n",
        "  else:  \n",
        "    FBscraper(10,credentials)\n",
        "    count+=1\n"
      ],
      "metadata": {
        "colab": {
          "base_uri": "https://localhost:8080/",
          "height": 1000
        },
        "id": "7dXazhUiNfhb",
        "outputId": "90abc92f-6440-49af-81f6-3c9c31e4d920"
      },
      "execution_count": null,
      "outputs": [
        {
          "output_type": "stream",
          "name": "stderr",
          "text": [
            "[D:urllib3.connectionpool] Resetting dropped connection: %s\n"
          ]
        },
        {
          "output_type": "stream",
          "name": "stdout",
          "text": [
            "thekitchn\n"
          ]
        },
        {
          "output_type": "stream",
          "name": "stderr",
          "text": [
            "[D:urllib3.connectionpool] %s://%s:%s \"%s %s %s\" %s %s\n",
            "[D:facebook_scraper.facebook_scraper] Starting to iterate pages\n",
            "[D:urllib3.connectionpool] %s://%s:%s \"%s %s %s\" %s %s\n",
            "[D:facebook_scraper.page_iterators] Requesting page from: %s\n",
            "[D:urllib3.connectionpool] %s://%s:%s \"%s %s %s\" %s %s\n",
            "[D:facebook_scraper.page_iterators] Parsing page response\n",
            "[D:facebook_scraper.page_iterators] Got %s raw posts from page\n",
            "[D:facebook_scraper.facebook_scraper] Extracting posts from page %s\n",
            "[D:facebook_scraper.extractors] Got exact timestamp from publish_time: 2022-01-10 20:00:31\n",
            "[D:facebook_scraper.extractors] Fetching 10162821265859616\n",
            "[D:urllib3.connectionpool] %s://%s:%s \"%s %s %s\" %s %s\n",
            "[D:urllib3.connectionpool] %s://%s:%s \"%s %s %s\" %s %s\n",
            "[W:facebook_scraper.extractors] [%s] Extract method %s didn't return anything\n",
            "[W:facebook_scraper.extractors] [%s] Extract method %s didn't return anything\n",
            "[W:facebook_scraper.extractors] [%s] Extract method %s didn't return anything\n",
            "[W:facebook_scraper.extractors] [%s] Extract method %s didn't return anything\n",
            "[W:facebook_scraper.extractors] [%s] Extract method %s didn't return anything\n",
            "[W:facebook_scraper.extractors] [%s] Extract method %s didn't return anything\n",
            "[W:facebook_scraper.extractors] [%s] Extract method %s didn't return anything\n",
            "[W:facebook_scraper.extractors] [%s] Extract method %s didn't return anything\n",
            "[D:facebook_scraper.page_iterators] Looking for next page URL\n",
            "[D:facebook_scraper.page_iterators] Requesting page from: %s\n",
            "[D:urllib3.connectionpool] %s://%s:%s \"%s %s %s\" %s %s\n",
            "[D:facebook_scraper.page_iterators] Parsing page response\n",
            "[D:facebook_scraper.page_iterators] Got %s raw posts from page\n",
            "[D:facebook_scraper.facebook_scraper] Extracting posts from page %s\n",
            "[D:facebook_scraper.extractors] Got exact timestamp from publish_time: 2022-01-10 19:30:03\n",
            "[D:facebook_scraper.extractors] Fetching 10162821217339616\n",
            "[D:urllib3.connectionpool] %s://%s:%s \"%s %s %s\" %s %s\n",
            "[D:urllib3.connectionpool] %s://%s:%s \"%s %s %s\" %s %s\n",
            "[W:facebook_scraper.extractors] [%s] Extract method %s didn't return anything\n",
            "[W:facebook_scraper.extractors] [%s] Extract method %s didn't return anything\n",
            "[W:facebook_scraper.extractors] [%s] Extract method %s didn't return anything\n",
            "[W:facebook_scraper.extractors] [%s] Extract method %s didn't return anything\n",
            "[W:facebook_scraper.extractors] [%s] Extract method %s didn't return anything\n",
            "[W:facebook_scraper.extractors] [%s] Extract method %s didn't return anything\n",
            "[W:facebook_scraper.extractors] [%s] Extract method %s didn't return anything\n",
            "[W:facebook_scraper.extractors] [%s] Extract method %s didn't return anything\n",
            "[D:facebook_scraper.extractors] Got exact timestamp from publish_time: 2022-01-10 19:00:32\n",
            "[D:facebook_scraper.extractors] Fetching 10162821175049616\n",
            "[D:urllib3.connectionpool] %s://%s:%s \"%s %s %s\" %s %s\n",
            "[D:urllib3.connectionpool] %s://%s:%s \"%s %s %s\" %s %s\n",
            "[W:facebook_scraper.extractors] [%s] Extract method %s didn't return anything\n",
            "[W:facebook_scraper.extractors] [%s] Extract method %s didn't return anything\n",
            "[W:facebook_scraper.extractors] [%s] Extract method %s didn't return anything\n",
            "[W:facebook_scraper.extractors] [%s] Extract method %s didn't return anything\n",
            "[W:facebook_scraper.extractors] [%s] Extract method %s didn't return anything\n",
            "[W:facebook_scraper.extractors] [%s] Extract method %s didn't return anything\n",
            "[W:facebook_scraper.extractors] [%s] Extract method %s didn't return anything\n",
            "[W:facebook_scraper.extractors] [%s] Extract method %s didn't return anything\n",
            "[D:facebook_scraper.extractors] Got exact timestamp from publish_time: 2022-01-10 18:00:29\n",
            "[D:facebook_scraper.extractors] Fetching 10162821092049616\n",
            "[D:urllib3.connectionpool] %s://%s:%s \"%s %s %s\" %s %s\n",
            "[D:urllib3.connectionpool] %s://%s:%s \"%s %s %s\" %s %s\n",
            "[W:facebook_scraper.extractors] [%s] Extract method %s didn't return anything\n",
            "[W:facebook_scraper.extractors] [%s] Extract method %s didn't return anything\n",
            "[W:facebook_scraper.extractors] [%s] Extract method %s didn't return anything\n",
            "[W:facebook_scraper.extractors] [%s] Extract method %s didn't return anything\n",
            "[W:facebook_scraper.extractors] [%s] Extract method %s didn't return anything\n",
            "[W:facebook_scraper.extractors] [%s] Extract method %s didn't return anything\n",
            "[W:facebook_scraper.extractors] [%s] Extract method %s didn't return anything\n",
            "[W:facebook_scraper.extractors] [%s] Extract method %s didn't return anything\n"
          ]
        },
        {
          "output_type": "error",
          "ename": "KeyboardInterrupt",
          "evalue": "ignored",
          "traceback": [
            "\u001b[0;31m---------------------------------------------------------------------------\u001b[0m",
            "\u001b[0;31mKeyboardInterrupt\u001b[0m                         Traceback (most recent call last)",
            "\u001b[0;32m<ipython-input-9-d52d0c050267>\u001b[0m in \u001b[0;36m<module>\u001b[0;34m()\u001b[0m\n\u001b[1;32m      9\u001b[0m     \u001b[0mprint\u001b[0m\u001b[0;34m(\u001b[0m\u001b[0;34m'number of credentials changed: '\u001b[0m\u001b[0;34m,\u001b[0m \u001b[0mcountacc\u001b[0m\u001b[0;34m)\u001b[0m\u001b[0;34m\u001b[0m\u001b[0;34m\u001b[0m\u001b[0m\n\u001b[1;32m     10\u001b[0m   \u001b[0;32melse\u001b[0m\u001b[0;34m:\u001b[0m\u001b[0;34m\u001b[0m\u001b[0;34m\u001b[0m\u001b[0m\n\u001b[0;32m---> 11\u001b[0;31m     \u001b[0mFBscraper\u001b[0m\u001b[0;34m(\u001b[0m\u001b[0;36m10\u001b[0m\u001b[0;34m,\u001b[0m\u001b[0mcredentials\u001b[0m\u001b[0;34m)\u001b[0m\u001b[0;34m\u001b[0m\u001b[0;34m\u001b[0m\u001b[0m\n\u001b[0m\u001b[1;32m     12\u001b[0m     \u001b[0mcount\u001b[0m\u001b[0;34m+=\u001b[0m\u001b[0;36m1\u001b[0m\u001b[0;34m\u001b[0m\u001b[0;34m\u001b[0m\u001b[0m\n",
            "\u001b[0;32m<ipython-input-5-835452ef34fa>\u001b[0m in \u001b[0;36mFBscraper\u001b[0;34m(PAGES, COOKIES)\u001b[0m\n\u001b[1;32m     11\u001b[0m       \u001b[0;32mfor\u001b[0m \u001b[0mpost\u001b[0m \u001b[0;32min\u001b[0m \u001b[0mget_posts\u001b[0m\u001b[0;34m(\u001b[0m\u001b[0mfbp\u001b[0m\u001b[0;34m,\u001b[0m \u001b[0mpages\u001b[0m\u001b[0;34m=\u001b[0m \u001b[0mPAGES\u001b[0m \u001b[0;34m,\u001b[0m\u001b[0mcookies\u001b[0m\u001b[0;34m=\u001b[0m \u001b[0mCOOKIES\u001b[0m\u001b[0;34m)\u001b[0m\u001b[0;34m:\u001b[0m\u001b[0;34m\u001b[0m\u001b[0;34m\u001b[0m\u001b[0m\n\u001b[1;32m     12\u001b[0m         \u001b[0mcollection\u001b[0m \u001b[0;34m=\u001b[0m \u001b[0;34m{\u001b[0m\u001b[0;34m'pageName'\u001b[0m\u001b[0;34m:\u001b[0m\u001b[0mfbp\u001b[0m\u001b[0;34m}\u001b[0m\u001b[0;34m\u001b[0m\u001b[0;34m\u001b[0m\u001b[0m\n\u001b[0;32m---> 13\u001b[0;31m         \u001b[0mtime\u001b[0m\u001b[0;34m.\u001b[0m\u001b[0msleep\u001b[0m\u001b[0;34m(\u001b[0m\u001b[0mrandom\u001b[0m\u001b[0;34m.\u001b[0m\u001b[0mrandint\u001b[0m\u001b[0;34m(\u001b[0m\u001b[0;36m5\u001b[0m\u001b[0;34m,\u001b[0m\u001b[0;36m15\u001b[0m\u001b[0;34m)\u001b[0m\u001b[0;34m)\u001b[0m\u001b[0;34m\u001b[0m\u001b[0;34m\u001b[0m\u001b[0m\n\u001b[0m\u001b[1;32m     14\u001b[0m         \u001b[0;32mfor\u001b[0m \u001b[0mitems\u001b[0m \u001b[0;32min\u001b[0m \u001b[0mfields\u001b[0m\u001b[0;34m:\u001b[0m\u001b[0;34m\u001b[0m\u001b[0;34m\u001b[0m\u001b[0m\n\u001b[1;32m     15\u001b[0m           \u001b[0mcollection\u001b[0m\u001b[0;34m[\u001b[0m\u001b[0mitems\u001b[0m\u001b[0;34m]\u001b[0m \u001b[0;34m=\u001b[0m \u001b[0;34m(\u001b[0m\u001b[0mpost\u001b[0m\u001b[0;34m[\u001b[0m\u001b[0mitems\u001b[0m\u001b[0;34m]\u001b[0m\u001b[0;34m)\u001b[0m\u001b[0;34m\u001b[0m\u001b[0;34m\u001b[0m\u001b[0m\n",
            "\u001b[0;31mKeyboardInterrupt\u001b[0m: "
          ]
        }
      ]
    }
  ]
}