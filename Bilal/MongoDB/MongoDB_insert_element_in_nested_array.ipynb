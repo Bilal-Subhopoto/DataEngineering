{
  "nbformat": 4,
  "nbformat_minor": 0,
  "metadata": {
    "colab": {
      "name": "MongoDB insert element in nested array.ipynb",
      "provenance": [],
      "collapsed_sections": [],
      "authorship_tag": "ABX9TyOCK+7H/SDBTmnwhlf9uFKz",
      "include_colab_link": true
    },
    "kernelspec": {
      "name": "python3",
      "display_name": "Python 3"
    },
    "language_info": {
      "name": "python"
    }
  },
  "cells": [
    {
      "cell_type": "markdown",
      "metadata": {
        "id": "view-in-github",
        "colab_type": "text"
      },
      "source": [
        "<a href=\"https://colab.research.google.com/github/Bilal-Subhopoto/DataEngineering/blob/main/Bilal/MongoDB/MongoDB_insert_element_in_nested_array.ipynb\" target=\"_parent\"><img src=\"https://colab.research.google.com/assets/colab-badge.svg\" alt=\"Open In Colab\"/></a>"
      ]
    },
    {
      "cell_type": "code",
      "execution_count": 1,
      "metadata": {
        "id": "-ms36O_Q1waq"
      },
      "outputs": [],
      "source": [
        "from pymongo import MongoClient\n",
        "myclient = MongoClient(\"mongodb://43.251.253.107:1600/\")\n",
        "mydb = myclient.Nested_Array\n",
        "mycol = mydb.nested"
      ]
    },
    {
      "cell_type": "code",
      "source": [
        "mycol.insert_one({\n",
        "   \"_id\": \"1234\",\n",
        "   \"company\": {\n",
        "     \"name\": \"MongoDB\",\n",
        "     \"employees\": []\n",
        "   }\n",
        "})"
      ],
      "metadata": {
        "colab": {
          "base_uri": "https://localhost:8080/"
        },
        "id": "08bih7WA2aiS",
        "outputId": "f0cf08a6-e928-4cd3-d591-0c4331ae0db6"
      },
      "execution_count": 4,
      "outputs": [
        {
          "output_type": "execute_result",
          "data": {
            "text/plain": [
              "<pymongo.results.InsertOneResult at 0x7f7fe836bbe0>"
            ]
          },
          "metadata": {},
          "execution_count": 4
        }
      ]
    },
    {
      "cell_type": "code",
      "source": [
        "mycol.update_one({ \"_id\": \"123\" },{ \"$push\": { \"company.employees\": { \"firstname\": \"Maxime\", \"surname\": \"Beugnet\", \"role\": \"Senior Developer Advocate\" }}})"
      ],
      "metadata": {
        "colab": {
          "base_uri": "https://localhost:8080/"
        },
        "id": "3QIiPHQn3kaJ",
        "outputId": "3367ddfa-ad35-4902-cc28-4d0e8081fdb0"
      },
      "execution_count": 5,
      "outputs": [
        {
          "output_type": "execute_result",
          "data": {
            "text/plain": [
              "<pymongo.results.UpdateResult at 0x7f7fe837bcd0>"
            ]
          },
          "metadata": {},
          "execution_count": 5
        }
      ]
    },
    {
      "cell_type": "code",
      "source": [
        "mycol.find_one()"
      ],
      "metadata": {
        "colab": {
          "base_uri": "https://localhost:8080/"
        },
        "id": "0iZJ373j38aD",
        "outputId": "5dd6cbb3-c006-466d-88ec-cf53963cc7af"
      },
      "execution_count": 6,
      "outputs": [
        {
          "output_type": "execute_result",
          "data": {
            "text/plain": [
              "{'_id': '123',\n",
              " 'company': {'employees': [{'firstname': 'Maxime',\n",
              "    'role': 'Senior Developer Advocate',\n",
              "    'surname': 'Beugnet'},\n",
              "   {'firstname': 'Maxime',\n",
              "    'role': 'Senior Developer Advocate',\n",
              "    'surname': 'Beugnet'}],\n",
              "  'name': 'MongoDB'}}"
            ]
          },
          "metadata": {},
          "execution_count": 6
        }
      ]
    },
    {
      "cell_type": "code",
      "source": [
        "from pymongo import MongoClient\n",
        "myclient = MongoClient(\"mongodb://43.251.253.107:1600/\")\n",
        "mydb = myclient.FB_scraper_MT2\n",
        "mycol = mydb.Allposts"
      ],
      "metadata": {
        "id": "9yJqr7zJJk_1"
      },
      "execution_count": null,
      "outputs": []
    },
    {
      "cell_type": "code",
      "source": [
        "from bson.objectid import ObjectId#to find type of fields in mongoDB collection\n",
        "for i in mycol.find_one({\"_id\" : ObjectId(\"61f14288e416ac412f18440b\")}):\n",
        "  print(i,\" \",type(mycol.find_one({\"_id\" : ObjectId(\"61f14288e416ac412f18440b\")},[i])[i]))"
      ],
      "metadata": {
        "colab": {
          "base_uri": "https://localhost:8080/"
        },
        "id": "ZRZBtKzNWEmf",
        "outputId": "9b78cc1e-41e3-48b5-c67c-f6d13cb8b0cb"
      },
      "execution_count": null,
      "outputs": [
        {
          "output_type": "stream",
          "name": "stdout",
          "text": [
            "_id   <class 'bson.objectid.ObjectId'>\n",
            "DomainName   <class 'str'>\n",
            "pageName   <class 'str'>\n",
            "comments   <class 'int'>\n",
            "link   <class 'str'>\n",
            "likes   <class 'int'>\n",
            "images   <class 'list'>\n",
            "shared_time   <class 'NoneType'>\n",
            "text   <class 'str'>\n",
            "post_id   <class 'str'>\n",
            "reactions   <class 'NoneType'>\n",
            "shares   <class 'int'>\n",
            "user_id   <class 'str'>\n",
            "time   <class 'datetime.datetime'>\n",
            "timestamp   <class 'int'>\n",
            "TimeDownload   <class 'datetime.datetime'>\n"
          ]
        }
      ]
    }
  ]
}