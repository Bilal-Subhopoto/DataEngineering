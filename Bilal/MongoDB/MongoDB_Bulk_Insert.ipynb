{
  "nbformat": 4,
  "nbformat_minor": 0,
  "metadata": {
    "colab": {
      "name": "MongoDB Bulk Insert.ipynb",
      "provenance": [],
      "authorship_tag": "ABX9TyOu7jB0+DE3OoMj8SosNKWN",
      "include_colab_link": true
    },
    "kernelspec": {
      "name": "python3",
      "display_name": "Python 3"
    },
    "language_info": {
      "name": "python"
    }
  },
  "cells": [
    {
      "cell_type": "markdown",
      "metadata": {
        "id": "view-in-github",
        "colab_type": "text"
      },
      "source": [
        "<a href=\"https://colab.research.google.com/github/Bilal-Subhopoto/DataEngineering/blob/main/Bilal/MongoDB/MongoDB_Bulk_Insert.ipynb\" target=\"_parent\"><img src=\"https://colab.research.google.com/assets/colab-badge.svg\" alt=\"Open In Colab\"/></a>"
      ]
    },
    {
      "cell_type": "code",
      "execution_count": null,
      "metadata": {
        "id": "KHn30NIxh0Q_"
      },
      "outputs": [],
      "source": [
        "from pymongo import MongoClient\n",
        "mongo_client = MongoClient(\"mongodb://43.251.253.107:1600/\")\n",
        "mydb = mongo_client.Bulk_Insert\n",
        "mycol = mydb.Bulk"
      ]
    },
    {
      "cell_type": "code",
      "source": [
        "# these libraries are optional\n",
        "import json\n",
        "import datetime # for MongoDB timestamps\n",
        "import uuid # UUIDs for documents\n",
        "import random # to randomly generate doc data"
      ],
      "metadata": {
        "id": "zAw_3JuZko3O"
      },
      "execution_count": null,
      "outputs": []
    },
    {
      "cell_type": "code",
      "source": [
        "simple_dict = {\"key\": \"value\"}"
      ],
      "metadata": {
        "id": "0T18m42vkuN5"
      },
      "execution_count": null,
      "outputs": []
    },
    {
      "cell_type": "code",
      "source": [
        "some_value = simple_dict[\"key\"]\n",
        "\n",
        "# should print out --> \"key: value\"\n",
        "print (\"key:\", some_value)"
      ],
      "metadata": {
        "colab": {
          "base_uri": "https://localhost:8080/"
        },
        "id": "b45Qc3mrkwq7",
        "outputId": "88df4b65-dc4f-4e12-a19e-636999f1a933"
      },
      "execution_count": null,
      "outputs": [
        {
          "output_type": "stream",
          "name": "stdout",
          "text": [
            "key: value\n"
          ]
        }
      ]
    },
    {
      "cell_type": "code",
      "source": [
        "doc_obj = {\"field 1\": \"value 1\", \"field 2\": \"value 2\"}"
      ],
      "metadata": {
        "id": "wmjbAPXulN5W"
      },
      "execution_count": null,
      "outputs": []
    },
    {
      "cell_type": "code",
      "source": [
        "doc_obj = {\n",
        "    \"field 1\": \"value 1\",\n",
        "    \"field 2\": \"value 2\",\n",
        "    \"field 3\": 12345\n",
        "}"
      ],
      "metadata": {
        "id": "pCMV1SNIlfzR"
      },
      "execution_count": null,
      "outputs": []
    },
    {
      "cell_type": "code",
      "source": [
        "# mycol.insert_many( {\"field 1\": 42} ) # this won't work"
      ],
      "metadata": {
        "id": "ZY7zoSHkllxA"
      },
      "execution_count": null,
      "outputs": []
    },
    {
      "cell_type": "code",
      "source": [
        "mongo_docs = []\n",
        "doc_body = {\"field\":\"value\"}\n",
        "mongo_docs += [doc_body]"
      ],
      "metadata": {
        "id": "1kX6Tmprlv7l"
      },
      "execution_count": null,
      "outputs": []
    },
    {
      "cell_type": "code",
      "source": [
        "doc_body = {\"field\":\"value\"}\n",
        "mongo_docs.append(doc_body)"
      ],
      "metadata": {
        "id": "y6l0vxVdmaUe"
      },
      "execution_count": null,
      "outputs": []
    },
    {
      "cell_type": "code",
      "source": [
        "doc_body = {\"field\":\"value\"}\n",
        "\n",
        "# insert a dict object named 'doc_body' at index 3\n",
        "mongo_docs.insert(3, doc_body)"
      ],
      "metadata": {
        "id": "XyTDr4cnmc5k"
      },
      "execution_count": null,
      "outputs": []
    },
    {
      "cell_type": "code",
      "source": [
        "mycol.insert_many([{\"test\": 22345}])"
      ],
      "metadata": {
        "colab": {
          "base_uri": "https://localhost:8080/"
        },
        "id": "cS59qCU5mhH1",
        "outputId": "6a7d8de4-0aa4-406a-d86f-53b6e7b4059b"
      },
      "execution_count": null,
      "outputs": [
        {
          "output_type": "execute_result",
          "data": {
            "text/plain": [
              "<pymongo.results.InsertManyResult at 0x7f3e42725870>"
            ]
          },
          "metadata": {},
          "execution_count": 18
        }
      ]
    },
    {
      "cell_type": "code",
      "source": [
        "fruits = [\"Apple\", \"Banana\", \"Mango\"]"
      ],
      "metadata": {
        "id": "9zDCcmELmokp"
      },
      "execution_count": null,
      "outputs": []
    },
    {
      "cell_type": "code",
      "source": [
        "# create a new list for the insert_many() method call\n",
        "mongo_docs = []"
      ],
      "metadata": {
        "id": "gtE_Mdxvm5bJ"
      },
      "execution_count": null,
      "outputs": []
    },
    {
      "cell_type": "code",
      "source": [
        "# iterate over the list of fruits\n",
        "for num, fruit in enumerate( fruits ):\n",
        "    # create a new MongoDB document dict\n",
        "    doc = {}\n",
        "    # randomly pick num between 0 and 1\n",
        "    ran_num = random.randint(0, 1)\n",
        "    doc['condition'] = ['good', 'bad'][ran_num]\n",
        "\n",
        "    # create a time stamp for the document\n",
        "    doc['time'] = datetime.datetime.now()\n",
        "\n",
        "    # creat a UUID for the fruit\n",
        "    doc['uuid'] = str( uuid.uuid4() )\n",
        "    # add the MongoDB document to the list\n",
        "    mongo_docs += [doc]"
      ],
      "metadata": {
        "id": "QRFd2xzvm7z6"
      },
      "execution_count": null,
      "outputs": []
    },
    {
      "cell_type": "code",
      "source": [
        "# make an API request to MongoDB to insert_many() fruits\n",
        "mycol.insert_many( mongo_docs )"
      ],
      "metadata": {
        "id": "xxXnv48Bm-Oz"
      },
      "execution_count": null,
      "outputs": []
    },
    {
      "cell_type": "code",
      "source": [
        "http_message_string = '''\n",
        "{\"db\": \"some_database\", \"col\": \"some_collection\", \"docs\": [{\"body\": {\"field 1\": \"value 1\", \"field 2\": \"value 2\"}}, {\"body\": {\"another field\": \"another val\", \"another field 2\": \"another val 2\"}}]}\n",
        "'''"
      ],
      "metadata": {
        "id": "viefY0LLqkrk"
      },
      "execution_count": null,
      "outputs": []
    },
    {
      "cell_type": "code",
      "source": [
        "# try to create a dict from JSON string\n",
        "http_json = json.loads(http_message_string)"
      ],
      "metadata": {
        "id": "-CgUNLy1rKRE"
      },
      "execution_count": null,
      "outputs": []
    },
    {
      "cell_type": "code",
      "source": [
        "# use iteritems() in Python 2 instead\n",
        "for key, val in http_json.items():\n",
        "\n",
        "    # the value must be a list for insert_many() to work\n",
        "    if key == \"docs\" and type(val) == list:\n",
        "        mycol.insert_many( val )"
      ],
      "metadata": {
        "id": "tukYjksErMbU"
      },
      "execution_count": null,
      "outputs": []
    },
    {
      "cell_type": "code",
      "source": [
        "# make an API call to insert multiple documents\n",
        "# and have it return a 'results' object\n",
        "result = mycol.insert_many(mongo_docs)"
      ],
      "metadata": {
        "id": "ioTbQfZXrYbT"
      },
      "execution_count": null,
      "outputs": []
    },
    {
      "cell_type": "code",
      "source": [
        "# get the total numbers of docs inserted\n",
        "total_docs = len(result.inserted_ids)\n",
        "\n",
        "print (\"total inserted:\", total_docs)\n",
        "print (\"inserted IDs:\", result.inserted_ids)"
      ],
      "metadata": {
        "colab": {
          "base_uri": "https://localhost:8080/"
        },
        "id": "9TBHkrGxrzpH",
        "outputId": "744cbe68-cdba-4014-a0d3-d2634964d96d"
      },
      "execution_count": null,
      "outputs": [
        {
          "output_type": "stream",
          "name": "stdout",
          "text": [
            "total inserted: 3\n",
            "inserted IDs: [ObjectId('61f1130202bf552e73d6ad0d'), ObjectId('61f1130202bf552e73d6ad0e'), ObjectId('61f1130202bf552e73d6ad0f')]\n"
          ]
        }
      ]
    }
  ]
}