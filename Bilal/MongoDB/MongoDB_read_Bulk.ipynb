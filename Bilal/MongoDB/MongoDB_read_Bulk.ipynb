{
  "nbformat": 4,
  "nbformat_minor": 0,
  "metadata": {
    "colab": {
      "name": "MongoDB read Bulk.ipynb",
      "provenance": [],
      "collapsed_sections": [],
      "authorship_tag": "ABX9TyOHUS6YT1QosBQcH+XpD+Eg",
      "include_colab_link": true
    },
    "kernelspec": {
      "name": "python3",
      "display_name": "Python 3"
    },
    "language_info": {
      "name": "python"
    }
  },
  "cells": [
    {
      "cell_type": "markdown",
      "metadata": {
        "id": "view-in-github",
        "colab_type": "text"
      },
      "source": [
        "<a href=\"https://colab.research.google.com/github/Bilal-Subhopoto/DataEngineering/blob/main/Bilal/MongoDB/MongoDB_read_Bulk.ipynb\" target=\"_parent\"><img src=\"https://colab.research.google.com/assets/colab-badge.svg\" alt=\"Open In Colab\"/></a>"
      ]
    },
    {
      "cell_type": "code",
      "execution_count": null,
      "metadata": {
        "id": "4PofBi73uBZg"
      },
      "outputs": [],
      "source": [
        "from pymongo import MongoClient\n",
        "myclient = MongoClient(\"mongodb://43.251.253.107:1600/\")"
      ]
    },
    {
      "cell_type": "code",
      "source": [
        "mydb = myclient.Bulk_Insert\n",
        "mycol = mydb.Bulk"
      ],
      "metadata": {
        "id": "H0uJEcOeuY-V"
      },
      "execution_count": null,
      "outputs": []
    },
    {
      "cell_type": "code",
      "source": [
        "here = mycol.find({})"
      ],
      "metadata": {
        "id": "V6qs0DnOuvU1"
      },
      "execution_count": null,
      "outputs": []
    },
    {
      "cell_type": "code",
      "source": [
        "for i in here:\n",
        "  print(i)"
      ],
      "metadata": {
        "colab": {
          "base_uri": "https://localhost:8080/"
        },
        "id": "ZXBSR4OCu60P",
        "outputId": "f39f44a6-4e8a-498c-e7a7-1d096daf365c"
      },
      "execution_count": null,
      "outputs": [
        {
          "output_type": "stream",
          "name": "stdout",
          "text": [
            "{'_id': ObjectId('61f10cd002bf552e73d6acfe'), 'test': 22345}\n",
            "{'_id': ObjectId('61f1112e02bf552e73d6acff'), 'condition': 'good', 'time': datetime.datetime(2022, 1, 26, 9, 15, 8, 107000), 'uuid': 'c9a22d68-7c32-4cb6-bcb1-b579f9f154d9'}\n",
            "{'_id': ObjectId('61f1112e02bf552e73d6ad00'), 'condition': 'good', 'time': datetime.datetime(2022, 1, 26, 9, 15, 8, 110000), 'uuid': '572c87b8-f34d-4202-91a4-9f315e151de9'}\n",
            "{'_id': ObjectId('61f1112e02bf552e73d6ad01'), 'condition': 'bad', 'time': datetime.datetime(2022, 1, 26, 9, 15, 8, 110000), 'uuid': 'cb44d77d-2cc9-4bac-87da-7686ad9c5289'}\n",
            "{'_id': ObjectId('61f111ad02bf552e73d6ad02'), 'body': {'field 1': 'value 1', 'field 2': 'value 2'}}\n",
            "{'_id': ObjectId('61f111ad02bf552e73d6ad03'), 'body': {'another field': 'another val', 'another field 2': 'another val 2'}}\n",
            "{'_id': ObjectId('61f112f602bf552e73d6ad0a'), 'condition': 'good', 'time': datetime.datetime(2022, 1, 26, 9, 22, 59, 882000), 'uuid': '76938a95-31d1-4a8b-999f-f2d63a104713'}\n",
            "{'_id': ObjectId('61f112f602bf552e73d6ad0b'), 'condition': 'good', 'time': datetime.datetime(2022, 1, 26, 9, 22, 59, 882000), 'uuid': 'bc97a9f7-a88a-47da-96a7-a0191e66c35b'}\n",
            "{'_id': ObjectId('61f112f602bf552e73d6ad0c'), 'condition': 'good', 'time': datetime.datetime(2022, 1, 26, 9, 22, 59, 882000), 'uuid': '243f4d69-f0db-4bf7-842f-dbf596bf6f4d'}\n",
            "{'_id': ObjectId('61f1130202bf552e73d6ad0d'), 'condition': 'bad', 'time': datetime.datetime(2022, 1, 26, 9, 23, 10, 466000), 'uuid': 'f55a1381-8217-4a7f-afe7-efe927d32284'}\n",
            "{'_id': ObjectId('61f1130202bf552e73d6ad0e'), 'condition': 'good', 'time': datetime.datetime(2022, 1, 26, 9, 23, 10, 466000), 'uuid': '7e13ee47-e323-4694-97af-36cd20138b69'}\n",
            "{'_id': ObjectId('61f1130202bf552e73d6ad0f'), 'condition': 'bad', 'time': datetime.datetime(2022, 1, 26, 9, 23, 10, 466000), 'uuid': 'e5c9e1f2-ed19-4728-aa32-3761de9651e0'}\n"
          ]
        }
      ]
    },
    {
      "cell_type": "code",
      "source": [
        "from bson.objectid import ObjectId\n",
        "vals_=[]\n",
        "for i in mycol.find({\"_id\":ObjectId('61f111ad02bf552e73d6ad02')},{'body'}):\n",
        "    vals_.append(i)\n",
        "vals_"
      ],
      "metadata": {
        "colab": {
          "base_uri": "https://localhost:8080/"
        },
        "id": "iw-HF_qyu8d8",
        "outputId": "8bae480c-af97-4208-b948-c1931c731412"
      },
      "execution_count": null,
      "outputs": [
        {
          "output_type": "execute_result",
          "data": {
            "text/plain": [
              "[{'_id': ObjectId('61f111ad02bf552e73d6ad02'),\n",
              "  'body': {'field 1': 'value 1', 'field 2': 'value 2'}}]"
            ]
          },
          "metadata": {},
          "execution_count": 23
        }
      ]
    },
    {
      "cell_type": "code",
      "source": [
        ""
      ],
      "metadata": {
        "id": "mcklaZIgwtbQ"
      },
      "execution_count": null,
      "outputs": []
    }
  ]
}