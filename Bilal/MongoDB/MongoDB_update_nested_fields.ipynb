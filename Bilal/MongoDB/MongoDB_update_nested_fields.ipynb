{
  "nbformat": 4,
  "nbformat_minor": 0,
  "metadata": {
    "colab": {
      "name": "MongoDB update nested fields.ipynb",
      "provenance": [],
      "authorship_tag": "ABX9TyOy0ZHKpTlSZEjxV4Gzi52n",
      "include_colab_link": true
    },
    "kernelspec": {
      "name": "python3",
      "display_name": "Python 3"
    },
    "language_info": {
      "name": "python"
    }
  },
  "cells": [
    {
      "cell_type": "markdown",
      "metadata": {
        "id": "view-in-github",
        "colab_type": "text"
      },
      "source": [
        "<a href=\"https://colab.research.google.com/github/Bilal-Subhopoto/DataEngineering/blob/main/Bilal/MongoDB/MongoDB_update_nested_fields.ipynb\" target=\"_parent\"><img src=\"https://colab.research.google.com/assets/colab-badge.svg\" alt=\"Open In Colab\"/></a>"
      ]
    },
    {
      "cell_type": "code",
      "execution_count": null,
      "metadata": {
        "id": "lO2Vc8DuJqOY"
      },
      "outputs": [],
      "source": [
        "import pymongo as pym      # Interface with Python <--> MongoDB \n",
        "import pandas as pd        # Create Dataframe                 \n",
        "import json                # convert file to json format"
      ]
    },
    {
      "cell_type": "code",
      "source": [
        "ll={\"customer\": \"QQ\",\"address\": {\"street\": \"funtime road\",\"city\": \"Almighty\",\"country\": \"Superpower\"},\n",
        " \"stake_holder_team\": {\"Finance\": [{\"name\": \"josh\",\"email\": [\"joshh@all.com\", \"bowza@hotmail.com\"]},\n",
        "{\"name\": \"josh\",\"email\": \"josh@w.com\"}],\"Production_Management\": [],\n",
        "\"Sales_and_Order_Management\": [],\"Service_and_Support\": [],\"Supply_Chain_Management\": [],\n",
        "\"Material_Management\": [],\"Quality_Management\":[]},\"weighting_of_category\": [\n",
        "{\"category\": \"Finance\", \"weight_factor\": \"\", \"weighting_thoughts\": \"\"},\n",
        "{\"category\": \"Production_Management\", \"weight_factor\": \"\", \"weighting_thoughts\": \"\"},\n",
        "{\"category\":\"Sales_and_Order_Management\", \"weight_factor\": \"\", \"weighting_thoughts\": \"\"},\n",
        "{\"category\": \"Service_and_Support\", \"weight_factor\": \"\", \"weighting_thoughts\": \"\"},\n",
        "{\"category\":\"Supply_Chain_Management\",\"weight_factor\": \"\", \"weighting_thoughts\": \"\"},\n",
        "{\"category\":\"Material_Management\", \"weight_factor\": \"\", \"weighting_thoughts\": \"\"},\n",
        "{\"category\": \"Quality_Management\", \"weight_factor\": \"\",\"weighting_thoughts\": \"\"}],\n",
        "\"requirement_document\": [{\n",
        "\"Req\": \"\",\n",
        "\"Category\": \"\",\n",
        "\"Title\": \"\",\n",
        "\"User_Story\": \"\",\n",
        "\"Importance\": \"\",\n",
        "\"Notes\": \"\",\n",
        "\"Location\": \"\",\n",
        "\"Stakeholder_Team\": \"\",\n",
        "\"Owner\": \"\",\n",
        "\"Approver\": \"\",\n",
        "\"Documents_Associated_to_Requirement\": \"\",\n",
        "\"SA_Reviewed\": \"\",\n",
        "\"Inclusion_Date\": \"\",\n",
        "\"Module_Tool_Utility\": \"\",\n",
        "\"IQMS_Business_Requirement\": \"\",\n",
        "\"IQMS_General_Notes\": \"\",\n",
        "\"Status\": \"\" }]},\n",
        "{\"customer\": \"DD\",\"address\": {\"street\": \"Smokey st\",\"city\": \"Danger Dan\",\"country\": \"Mine\"},\n",
        " \"stake_holder_team\": {\"Finance\": [{\"name\": \"byran\",\"email\": [\"byran.g@vvti.com\"]},\n",
        "{\"name\": \"byran\",\"email\": \"byran.v@get.com\"}],\"Production_Management\": [],\n",
        "\"Sales_and_Order_Management\": [],\"Service_and_Support\": [],\"Supply_Chain_Management\": [],\n",
        "\"Material_Management\": [],\"Quality_Management\":[]},\"weighting_of_category\": [\n",
        "{\"category\": \"Finance\", \"weight_factor\": \"\", \"weighting_thoughts\": \"\"},\n",
        "{\"category\": \"Production_Management\", \"weight_factor\": \"\", \"weighting_thoughts\": \"\"},\n",
        "{\"category\":\"Sales_and_Order_Management\", \"weight_factor\": \"\", \"weighting_thoughts\": \"\"},\n",
        "{\"category\": \"Service_and_Support\", \"weight_factor\": \"\", \"weighting_thoughts\": \"\"},\n",
        "{\"category\":\"Supply_Chain_Management\",\"weight_factor\": \"\", \"weighting_thoughts\": \"\"},\n",
        "{\"category\":\"Material_Management\", \"weight_factor\": \"\", \"weighting_thoughts\": \"\"},\n",
        "{\"category\": \"Quality_Management\", \"weight_factor\": \"\",\"weighting_thoughts\": \"\"}],\n",
        "\"requirement_document\": [{\n",
        "\"Req\": \"\",\n",
        "\"Category\": \"\",\n",
        "\"Title\": \"\",\n",
        "\"User_Story\": \"\",\n",
        "\"Importance\": \"\",\n",
        "\"Notes\": \"\",\n",
        "\"Location\": \"\",\n",
        "\"Stakeholder_Team\": \"\",\n",
        "\"Owner\": \"\",\n",
        "\"Approver\": \"\",\n",
        "\"Documents_Associated_to_Requirement\": \"\",\n",
        "\"SA_Reviewed\": \"\",\n",
        "\"Inclusion_Date\": \"\",\n",
        "\"Module_Tool_Utility\": \"\",\n",
        "\"IQMS_Business_Requirement\": \"\",\n",
        "\"IQMS_General_Notes\": \"\",\n",
        "\"Status\": \"\" }]}\n"
      ],
      "metadata": {
        "id": "NwDDCv7xND-n"
      },
      "execution_count": null,
      "outputs": []
    },
    {
      "cell_type": "code",
      "source": [
        "prc=pd.DataFrame(ll)"
      ],
      "metadata": {
        "id": "HD3Um1_ENJX3"
      },
      "execution_count": null,
      "outputs": []
    },
    {
      "cell_type": "code",
      "source": [
        "# prc.to_json('mongo_fields.json')"
      ],
      "metadata": {
        "id": "RAqq6YYtNXc2"
      },
      "execution_count": null,
      "outputs": []
    },
    {
      "cell_type": "code",
      "source": [
        "pd.read_json('mongo_fields.json')['requirement_document'][0]"
      ],
      "metadata": {
        "id": "0lvWXja0Nbc_"
      },
      "execution_count": null,
      "outputs": []
    },
    {
      "cell_type": "code",
      "source": [
        "# requirements will be the fields we update:\n",
        "nan = \"\"\n",
        "dict_requirements = [{'Req': nan,\n",
        " 'Category': nan,\n",
        " 'Title': nan,\n",
        " 'User_Story': nan,\n",
        " 'Importance': nan,\n",
        " 'Notes': nan,\n",
        " 'Location': nan,\n",
        " 'Stakeholder_Team': nan,\n",
        " 'Owner': 'Mike Williams',\n",
        " 'Approver': nan,\n",
        " 'Documents_Associated_to_Requirement': nan,\n",
        " 'SA_Reviewed ': nan,\n",
        " 'Inclusion_Date': nan,\n",
        " 'Module_Tool_Utility': nan,\n",
        " 'IQMS_Business_Requirement': nan,\n",
        " 'IQMS_General_Notes': nan,\n",
        " 'Status ': nan},{'Req': nan,\n",
        " 'Category': nan,\n",
        " 'Title': nan,\n",
        " 'User_Story': nan,\n",
        " 'Importance': nan,\n",
        " 'Notes': nan,\n",
        " 'Location': nan,\n",
        " 'Stakeholder_Team': nan,\n",
        " 'Owner': 'Bilal',\n",
        " 'Approver': nan,\n",
        " 'Documents_Associated_to_Requirement': nan,\n",
        " 'SA_Reviewed ': nan,\n",
        " 'Inclusion_Date': nan,\n",
        " 'Module_Tool_Utility': nan,\n",
        " 'IQMS_Business_Requirement': nan,\n",
        " 'IQMS_General_Notes': nan,\n",
        " 'Status ': nan}]"
      ],
      "metadata": {
        "id": "gcjle08sNi1D"
      },
      "execution_count": null,
      "outputs": []
    },
    {
      "cell_type": "code",
      "source": [
        "# dict_requirements[1]"
      ],
      "metadata": {
        "id": "_04iHL8oNrLE"
      },
      "execution_count": null,
      "outputs": []
    },
    {
      "cell_type": "code",
      "source": [
        "# Making a Connection to MongoClient\n",
        "client = pym.MongoClient('mongodb://43.251.253.107:1600/')\n",
        "\n",
        "# CREATING A DATABASE:\n",
        "db = client[\"fake_Business_Clients\"]\n",
        "\n",
        "# CREATING A COLLECTION (*AKA* TABLE):\n",
        "user_info_table= db[\"Business_clients_practice\"]"
      ],
      "metadata": {
        "id": "UETCI6a0PROe"
      },
      "execution_count": null,
      "outputs": []
    },
    {
      "cell_type": "code",
      "source": [
        "fake_business=pd.read_json('mongo_fields.json')"
      ],
      "metadata": {
        "id": "10DeIGn9PxG8"
      },
      "execution_count": null,
      "outputs": []
    },
    {
      "cell_type": "code",
      "source": [
        "fake_business_dict = fake_business.to_dict('records')"
      ],
      "metadata": {
        "id": "djwNHhhHP3sT"
      },
      "execution_count": null,
      "outputs": []
    },
    {
      "cell_type": "code",
      "source": [
        "user_info_table.insert_many(fake_business_dict)"
      ],
      "metadata": {
        "colab": {
          "base_uri": "https://localhost:8080/"
        },
        "id": "rhgIHnXyP6uZ",
        "outputId": "53f63c6d-9cf9-47f3-c181-dc4eb903d1d0"
      },
      "execution_count": null,
      "outputs": [
        {
          "output_type": "execute_result",
          "data": {
            "text/plain": [
              "<pymongo.results.InsertManyResult at 0x7fc0360b3f50>"
            ]
          },
          "metadata": {},
          "execution_count": 15
        }
      ]
    },
    {
      "cell_type": "code",
      "source": [
        "# First Entry of 2 we sent: now we need to update the requirement fields\n",
        "user_info_table.find_one()"
      ],
      "metadata": {
        "colab": {
          "base_uri": "https://localhost:8080/"
        },
        "id": "UuQ72_68P-2R",
        "outputId": "0dd7cd4d-4690-4a9c-fc58-388250de6019"
      },
      "execution_count": null,
      "outputs": [
        {
          "output_type": "execute_result",
          "data": {
            "text/plain": [
              "{'_id': ObjectId('61f0728b18cd925627062d77'),\n",
              " 'address': {'city': 'Almighty',\n",
              "  'country': 'Superpower',\n",
              "  'street': 'funtime road'},\n",
              " 'customer': 'QQ',\n",
              " 'requirement_document': [{'Approver': '',\n",
              "   'Category': '',\n",
              "   'Documents_Associated_to_Requirement': '',\n",
              "   'IQMS_Business_Requirement': '',\n",
              "   'IQMS_General_Notes': '',\n",
              "   'Importance': '',\n",
              "   'Inclusion_Date': '',\n",
              "   'Location': '',\n",
              "   'Module_Tool_Utility': '',\n",
              "   'Notes': '',\n",
              "   'Owner': '',\n",
              "   'Req': '',\n",
              "   'SA_Reviewed': '',\n",
              "   'Stakeholder_Team': '',\n",
              "   'Status': '',\n",
              "   'Title': '',\n",
              "   'User_Story': ''}],\n",
              " 'stake_holder_team': {'Finance': [{'email': ['joshh@all.com',\n",
              "     'bowza@hotmail.com'],\n",
              "    'name': 'josh'},\n",
              "   {'email': 'josh@w.com', 'name': 'josh'}],\n",
              "  'Material_Management': [],\n",
              "  'Production_Management': [],\n",
              "  'Quality_Management': [],\n",
              "  'Sales_and_Order_Management': [],\n",
              "  'Service_and_Support': [],\n",
              "  'Supply_Chain_Management': []},\n",
              " 'weighting_of_category': [{'category': 'Finance',\n",
              "   'weight_factor': '',\n",
              "   'weighting_thoughts': ''},\n",
              "  {'category': 'Production_Management',\n",
              "   'weight_factor': '',\n",
              "   'weighting_thoughts': ''},\n",
              "  {'category': 'Sales_and_Order_Management',\n",
              "   'weight_factor': '',\n",
              "   'weighting_thoughts': ''},\n",
              "  {'category': 'Service_and_Support',\n",
              "   'weight_factor': '',\n",
              "   'weighting_thoughts': ''},\n",
              "  {'category': 'Supply_Chain_Management',\n",
              "   'weight_factor': '',\n",
              "   'weighting_thoughts': ''},\n",
              "  {'category': 'Material_Management',\n",
              "   'weight_factor': '',\n",
              "   'weighting_thoughts': ''},\n",
              "  {'category': 'Quality_Management',\n",
              "   'weight_factor': '',\n",
              "   'weighting_thoughts': ''}]}"
            ]
          },
          "metadata": {},
          "execution_count": 16
        }
      ]
    },
    {
      "cell_type": "code",
      "source": [
        "# subset our data since we only have 2 documents but more requirments for ex.\n",
        "ex_2_requirements=[{'Req': nan,\n",
        "  'Category': nan,\n",
        "  'Title': nan,\n",
        "  'User_Story': nan,\n",
        "  'Importance': nan,\n",
        "  'Notes': nan,\n",
        "  'Location': nan,\n",
        "  'Stakeholder_Team': nan,\n",
        "  'Owner': 'JoJo Watts',\n",
        "  'Approver': nan,\n",
        "  'Documents_Associated_to_Requirement': nan,\n",
        "  'SA_Reviewed ': nan,\n",
        "  'Inclusion_Date': nan,\n",
        "  'Module_Tool_Utility': nan,\n",
        "  'IQMS_Business_Requirement': nan,\n",
        "  'IQMS_General_Notes': nan,\n",
        "  'Status ': nan},\n",
        " {'Req': 2.0,\n",
        "  'Category': 'ADDITIONAL_CAPABILITIES ',\n",
        "  'Title': 'Qpulse',\n",
        "  'User_Story': 'Track changes and approvals to documents',\n",
        "  'Importance': nan,\n",
        "  'Notes': \"Used for ISO Document management. Forms, work instructions, responsible, periodic review.  No check in/check out - so no real 'control'.  The review process is not currently automated - Quality Manager reviews the documents up for review and manages those.\",\n",
        "  'Location': nan,\n",
        "  'Stakeholder_Team': 'Quality',\n",
        "  'Owner': 'Depesh Singh',\n",
        "  'Approver': nan,\n",
        "  'Documents_Associated_to_Requirement': nan,\n",
        "  'SA_Reviewed ': nan,\n",
        "  'Inclusion_Date': nan,\n",
        "  'Module_Tool_Utility': 'Doc Control',\n",
        "  'IQMS_Business_Requirement': nan,\n",
        "  'IQMS_General_Notes': 'Full Document Control Functionality',\n",
        "  'Status ': nan}]\n",
        "ex_2_requirements"
      ],
      "metadata": {
        "id": "xXTxVUEWQcA7"
      },
      "execution_count": null,
      "outputs": []
    },
    {
      "cell_type": "code",
      "source": [
        "# for some reason update_many, doesn't work here!\n",
        "for i in ex_2_requirements:\n",
        "    for j in i.items():\n",
        "        user_info_table.update_one({ # pay attn the empty string\n",
        "        'requirement_document.'+j[0]:\"\"}, #match what we are updating otherwise get error\n",
        "        {'$set': {'requirement_document.$.'+j[0]: j[1]}})\n",
        "#             ,{multi:True})\n",
        "#         ,upsert=True)"
      ],
      "metadata": {
        "id": "KoIU2RaKQrIu"
      },
      "execution_count": null,
      "outputs": []
    },
    {
      "cell_type": "code",
      "source": [
        "for i in user_info_table.find({},{'requirement_document'}):\n",
        "    print(i)"
      ],
      "metadata": {
        "colab": {
          "base_uri": "https://localhost:8080/"
        },
        "id": "qgErfayRRkIm",
        "outputId": "a30f15c1-fadb-4b61-d111-9eb18f72c998"
      },
      "execution_count": null,
      "outputs": [
        {
          "output_type": "stream",
          "name": "stdout",
          "text": [
            "{'_id': ObjectId('61f0728b18cd925627062d77'), 'requirement_document': [{'Req': 2.0, 'Category': 'ADDITIONAL_CAPABILITIES ', 'Title': 'Qpulse', 'User_Story': 'Track changes and approvals to documents', 'Importance': '', 'Notes': \"Used for ISO Document management. Forms, work instructions, responsible, periodic review.  No check in/check out - so no real 'control'.  The review process is not currently automated - Quality Manager reviews the documents up for review and manages those.\", 'Location': '', 'Stakeholder_Team': 'Quality', 'Owner': 'Mike Williams', 'Approver': '', 'Documents_Associated_to_Requirement': '', 'SA_Reviewed': '', 'Inclusion_Date': '', 'Module_Tool_Utility': 'Doc Control', 'IQMS_Business_Requirement': '', 'IQMS_General_Notes': 'Full Document Control Functionality', 'Status': ''}]}\n"
          ]
        }
      ]
    },
    {
      "cell_type": "code",
      "source": [
        "from bson.objectid import ObjectId\n",
        "for i in user_info_table.find({\"_id\":ObjectId('61f0728b18cd925627062d77')}):\n",
        "    print(i)"
      ],
      "metadata": {
        "colab": {
          "base_uri": "https://localhost:8080/"
        },
        "id": "5T-IGFHjRo6J",
        "outputId": "140db5d1-b6be-430c-87f7-89b1337d0379"
      },
      "execution_count": null,
      "outputs": [
        {
          "output_type": "stream",
          "name": "stdout",
          "text": [
            "{'_id': ObjectId('61f0728b18cd925627062d77'), 'customer': 'QQ', 'address': {'street': 'funtime road', 'city': 'Almighty', 'country': 'Superpower'}, 'stake_holder_team': {'Finance': [{'name': 'josh', 'email': ['joshh@all.com', 'bowza@hotmail.com']}, {'name': 'josh', 'email': 'josh@w.com'}], 'Production_Management': [], 'Sales_and_Order_Management': [], 'Service_and_Support': [], 'Supply_Chain_Management': [], 'Material_Management': [], 'Quality_Management': []}, 'weighting_of_category': [{'category': 'Finance', 'weight_factor': '', 'weighting_thoughts': ''}, {'category': 'Production_Management', 'weight_factor': '', 'weighting_thoughts': ''}, {'category': 'Sales_and_Order_Management', 'weight_factor': '', 'weighting_thoughts': ''}, {'category': 'Service_and_Support', 'weight_factor': '', 'weighting_thoughts': ''}, {'category': 'Supply_Chain_Management', 'weight_factor': '', 'weighting_thoughts': ''}, {'category': 'Material_Management', 'weight_factor': '', 'weighting_thoughts': ''}, {'category': 'Quality_Management', 'weight_factor': '', 'weighting_thoughts': ''}], 'requirement_document': [{'Req': 2.0, 'Category': 'ADDITIONAL_CAPABILITIES ', 'Title': 'Qpulse', 'User_Story': 'Track changes and approvals to documents', 'Importance': '', 'Notes': \"Used for ISO Document management. Forms, work instructions, responsible, periodic review.  No check in/check out - so no real 'control'.  The review process is not currently automated - Quality Manager reviews the documents up for review and manages those.\", 'Location': '', 'Stakeholder_Team': 'Quality', 'Owner': 'Mike Williams', 'Approver': '', 'Documents_Associated_to_Requirement': '', 'SA_Reviewed': '', 'Inclusion_Date': '', 'Module_Tool_Utility': 'Doc Control', 'IQMS_Business_Requirement': '', 'IQMS_General_Notes': 'Full Document Control Functionality', 'Status': ''}]}\n"
          ]
        }
      ]
    },
    {
      "cell_type": "code",
      "source": [
        "vals_=[]\n",
        "for i in user_info_table.find({\"_id\":ObjectId('61f0728b18cd925627062d77')},\n",
        "    {'requirement_document'}):\n",
        "    vals_.append(i)\n",
        "vals_"
      ],
      "metadata": {
        "id": "HTCo8q45Ui0F"
      },
      "execution_count": null,
      "outputs": []
    },
    {
      "cell_type": "code",
      "source": [
        "for i in vals_[0]['requirement_document'][0].values():\n",
        "    print(i)\n",
        "    "
      ],
      "metadata": {
        "colab": {
          "base_uri": "https://localhost:8080/"
        },
        "id": "Oqdo_K-1UxmW",
        "outputId": "3af82bf3-ed0f-4a51-8fb3-32f63bed186e"
      },
      "execution_count": null,
      "outputs": [
        {
          "output_type": "stream",
          "name": "stdout",
          "text": [
            "2.0\n",
            "ADDITIONAL_CAPABILITIES \n",
            "Qpulse\n",
            "Track changes and approvals to documents\n",
            "\n",
            "Used for ISO Document management. Forms, work instructions, responsible, periodic review.  No check in/check out - so no real 'control'.  The review process is not currently automated - Quality Manager reviews the documents up for review and manages those.\n",
            "\n",
            "Quality\n",
            "Mike Williams\n",
            "\n",
            "\n",
            "\n",
            "\n",
            "Doc Control\n",
            "\n",
            "Full Document Control Functionality\n",
            "\n"
          ]
        }
      ]
    },
    {
      "cell_type": "code",
      "source": [
        "# replacement values:\n",
        "dict_requirements[1].items()"
      ],
      "metadata": {
        "colab": {
          "base_uri": "https://localhost:8080/"
        },
        "id": "GpzZ3pC_VYgR",
        "outputId": "4ec2beff-a78a-4a9d-f2a3-b203d4f7eca8"
      },
      "execution_count": null,
      "outputs": [
        {
          "output_type": "execute_result",
          "data": {
            "text/plain": [
              "dict_items([('Req', ''), ('Category', ''), ('Title', ''), ('User_Story', ''), ('Importance', ''), ('Notes', ''), ('Location', ''), ('Stakeholder_Team', ''), ('Owner', 'Bilal'), ('Approver', ''), ('Documents_Associated_to_Requirement', ''), ('SA_Reviewed ', ''), ('Inclusion_Date', ''), ('Module_Tool_Utility', ''), ('IQMS_Business_Requirement', ''), ('IQMS_General_Notes', ''), ('Status ', '')])"
            ]
          },
          "metadata": {},
          "execution_count": 30
        }
      ]
    },
    {
      "cell_type": "code",
      "source": [
        "for i in vals_[0]['requirement_document'][0].values(): # what to replace\n",
        "    for ii in dict_requirements[1].items(): # what to replace with\n",
        "        user_info_table.update_one({'_id':ObjectId('61f0728b18cd925627062d77'), \n",
        "        'requirement_document.'+ii[0]:i}, #match what we are updating otherwise get error\n",
        "        {'$set': {'requirement_document.$.'+ii[0]: ii[1]}}) #update each key/val pair\n",
        "\n",
        "   # {'$set': {'requirement_document:dict_requirements[1]}},upsert=True)\n",
        "\n",
        "# look into multi:true or multi=True because I can't get it to work here! "
      ],
      "metadata": {
        "id": "iq1q14NRVfA-"
      },
      "execution_count": null,
      "outputs": []
    },
    {
      "cell_type": "code",
      "source": [
        "# show what we changed to verify, look for 'Req:1.0 because before it was nan'\n",
        "for i in user_info_table.find({\"_id\":ObjectId('61f0728b18cd925627062d77')},\n",
        "                              {'requirement_document'}):\n",
        "    print(i)"
      ],
      "metadata": {
        "colab": {
          "base_uri": "https://localhost:8080/"
        },
        "id": "mcXYqVGaVyMj",
        "outputId": "df32e200-a2bf-4429-b2b2-0d53e3319a91"
      },
      "execution_count": null,
      "outputs": [
        {
          "output_type": "stream",
          "name": "stdout",
          "text": [
            "{'_id': ObjectId('61f0728b18cd925627062d77'), 'requirement_document': [{'Req': '', 'Category': '', 'Title': '', 'User_Story': '', 'Importance': '', 'Notes': '', 'Location': '', 'Stakeholder_Team': '', 'Owner': 'Bilal', 'Approver': '', 'Documents_Associated_to_Requirement': '', 'SA_Reviewed': '', 'Inclusion_Date': '', 'Module_Tool_Utility': '', 'IQMS_Business_Requirement': '', 'IQMS_General_Notes': '', 'Status': ''}]}\n"
          ]
        }
      ]
    },
    {
      "cell_type": "code",
      "source": [
        "pd.DataFrame(user_info_table.find({}))['requirement_document']"
      ],
      "metadata": {
        "colab": {
          "base_uri": "https://localhost:8080/"
        },
        "id": "fA2CFqi7WDFL",
        "outputId": "f617ea21-96b2-4185-a2e1-079ea318c45e"
      },
      "execution_count": null,
      "outputs": [
        {
          "output_type": "execute_result",
          "data": {
            "text/plain": [
              "0    [{'Req': '', 'Category': '', 'Title': '', 'Use...\n",
              "Name: requirement_document, dtype: object"
            ]
          },
          "metadata": {},
          "execution_count": 36
        }
      ]
    },
    {
      "cell_type": "code",
      "source": [
        ""
      ],
      "metadata": {
        "id": "5kalUfWLXAKA"
      },
      "execution_count": null,
      "outputs": []
    }
  ]
}