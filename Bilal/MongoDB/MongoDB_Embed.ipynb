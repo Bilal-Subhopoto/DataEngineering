{
  "nbformat": 4,
  "nbformat_minor": 0,
  "metadata": {
    "colab": {
      "name": "mongodb_Embed.ipynb",
      "provenance": [],
      "collapsed_sections": [],
      "authorship_tag": "ABX9TyNck1lHOQsAd1j028z1nAwa",
      "include_colab_link": true
    },
    "kernelspec": {
      "name": "python3",
      "display_name": "Python 3"
    },
    "language_info": {
      "name": "python"
    }
  },
  "cells": [
    {
      "cell_type": "markdown",
      "metadata": {
        "id": "view-in-github",
        "colab_type": "text"
      },
      "source": [
        "<a href=\"https://colab.research.google.com/github/Bilal-Subhopoto/DataEngineering/blob/main/Bilal/MongoDB/Mongodb_Embed.ipynb\" target=\"_parent\"><img src=\"https://colab.research.google.com/assets/colab-badge.svg\" alt=\"Open In Colab\"/></a>"
      ]
    },
    {
      "cell_type": "code",
      "execution_count": null,
      "metadata": {
        "colab": {
          "base_uri": "https://localhost:8080/"
        },
        "id": "f6gL4-nQZnc1",
        "outputId": "e3b0eb22-ea55-4796-8f5d-b106bb8d5d1c"
      },
      "outputs": [
        {
          "output_type": "execute_result",
          "data": {
            "text/plain": [
              "[{'Address': 'AddressA',\n",
              "  '_id': ObjectId('61f07d37115b5f61f9f7d3a9'),\n",
              "  'items': {'candy': {'Hersheys': 4, 'Sixlets': 8},\n",
              "   'cookie': {'Dough not': 10, 'Oreo': 2}},\n",
              "  'name': 'CustomerA'}]"
            ]
          },
          "metadata": {},
          "execution_count": 1
        }
      ],
      "source": [
        "from pymongo import MongoClient , DESCENDING , ASCENDING\n",
        "mongo_uri = \"mongodb://43.251.253.107:1600/\"\n",
        "client = MongoClient(mongo_uri)\n",
        "db = client['medium_gist']\n",
        "\n",
        "def create_collection(customer_detail):\n",
        "    post = {\"name\": customer_detail[\"name\"],\n",
        "            \"Address\": customer_detail[\"address\"],\n",
        "            \"items\": {}\n",
        "            }\n",
        "    db.customer_info.insert_one(post)\n",
        "\n",
        "def buy_item(customer_name,item_name, item_json):\n",
        "    db.customer_info.update_one({\"name\": customer_name},\n",
        "                            {\"$set\": {\"items.\"+ item_name: item_json}})\n",
        "\n",
        "\n",
        "# add customers \n",
        "\n",
        "create_collection(customer_detail = {\"name\": \"CustomerA\", \"address\":\"AddressA\"})\n",
        "create_collection(customer_detail = {\"name\": \"CustomerB\", \"address\":\"AddressB\"})\n",
        "\n",
        "\n",
        "transaction_detail = [{\"name\": \"CustomerA\",\n",
        "                       \"item\": \"candy\",\n",
        "                       \"detail\": {\"Sixlets\": 8, \"Hersheys\": 4}},\n",
        "                      \n",
        "                      {\"name\": \"CustomerA\",\n",
        "                       \"item\": \"cookie\",\n",
        "                       \"detail\": {\"Oreo\": 2, \"Dough not\": 10}},\n",
        "                      \n",
        "                      {\"name\": \"CustomerB\",\n",
        "                       \"item\": \"fruits\",\n",
        "                       \"detail\": {\"melon\":6, \"kiwi\": 23}\n",
        "                      }]\n",
        "\n",
        "# insert transactions\n",
        "for each_transaction in transaction_detail:\n",
        "    buy_item(customer_name=each_transaction['name'],\n",
        "             item_name=each_transaction['item'],\n",
        "             item_json=each_transaction['detail'])\n",
        "             \n",
        "#fetch data\n",
        "def search_item(item_category, item_name=None):\n",
        "    if item_name:\n",
        "        return list(db.customer_info.find({\"items.\" \n",
        "                                           + item_category + \".\" \n",
        "                                           + item_name:{\"$exists\": True}}))\n",
        "    else:\n",
        "        return list(db.customer_info.find({\"items.\"\n",
        "                                           + item_category:{\"$exists\": True}}))\n",
        "\n",
        "search_item(item_category=\"fruits\", item_name=\"melon\")\n",
        "search_item(item_category=\"cookie\")"
      ]
    },
    {
      "cell_type": "code",
      "source": [
        "from bson.objectid import ObjectId\n",
        "db.medium_gist.delete_one({\"_id\" : ObjectId(\"61f07d37115b5f61f9f7d3a9\")})"
      ],
      "metadata": {
        "colab": {
          "base_uri": "https://localhost:8080/"
        },
        "id": "Thk-w-UTaVUN",
        "outputId": "eed69d64-36a8-4c30-b005-45a7de32905e"
      },
      "execution_count": null,
      "outputs": [
        {
          "output_type": "execute_result",
          "data": {
            "text/plain": [
              "<pymongo.results.DeleteResult at 0x7f1c19ee90f0>"
            ]
          },
          "metadata": {},
          "execution_count": 4
        }
      ]
    },
    {
      "cell_type": "code",
      "source": [
        ""
      ],
      "metadata": {
        "id": "aIWe-ja4cDIX"
      },
      "execution_count": null,
      "outputs": []
    }
  ]
}
