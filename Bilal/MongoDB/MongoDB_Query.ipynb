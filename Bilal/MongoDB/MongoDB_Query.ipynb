{
  "nbformat": 4,
  "nbformat_minor": 0,
  "metadata": {
    "colab": {
      "name": "MongoDB Query.ipynb",
      "provenance": [],
      "collapsed_sections": [],
      "authorship_tag": "ABX9TyNLt/o1naY7rqjOO/VvDfO9",
      "include_colab_link": true
    },
    "kernelspec": {
      "name": "python3",
      "display_name": "Python 3"
    },
    "language_info": {
      "name": "python"
    }
  },
  "cells": [
    {
      "cell_type": "markdown",
      "metadata": {
        "id": "view-in-github",
        "colab_type": "text"
      },
      "source": [
        "<a href=\"https://colab.research.google.com/github/Bilal-Subhopoto/DataEngineering/blob/main/Bilal/MongoDB/MongoDB_Query.ipynb\" target=\"_parent\"><img src=\"https://colab.research.google.com/assets/colab-badge.svg\" alt=\"Open In Colab\"/></a>"
      ]
    },
    {
      "cell_type": "code",
      "execution_count": null,
      "metadata": {
        "id": "sCGSnPHXBGEI"
      },
      "outputs": [],
      "source": [
        "# importing the required libraries\n",
        "import pymongo\n",
        "import pprint\n",
        "import json\n",
        "import warnings\n",
        "warnings.filterwarnings('ignore')\n",
        "from pprint import pprint\n",
        "\n",
        "# connect to the mongoclient\n",
        "client = pymongo.MongoClient(\"mongodb://43.251.253.107:1600/\")"
      ]
    },
    {
      "cell_type": "code",
      "source": [
        "ndb = client.Nested_Array.nested\n",
        "bdb = client.Bulk_Insert.Bulk"
      ],
      "metadata": {
        "id": "uzdome8dJI-6"
      },
      "execution_count": null,
      "outputs": []
    },
    {
      "cell_type": "code",
      "source": [
        "# List all databases\n",
        "client.list_database_names()"
      ],
      "metadata": {
        "colab": {
          "base_uri": "https://localhost:8080/"
        },
        "id": "bC8Gx9qaB90s",
        "outputId": "c0053e90-0ec2-4f49-a925-49eec304bded"
      },
      "execution_count": null,
      "outputs": [
        {
          "output_type": "execute_result",
          "data": {
            "text/plain": [
              "['Bulk_Insert',\n",
              " 'FB_scraper_MT',\n",
              " 'FB_scraper_MT2',\n",
              " 'Facebook-Scraper_10thJan2022',\n",
              " 'Facebook-Scraper_15thJan2022',\n",
              " 'GoogleFBscraper3-Bilal',\n",
              " 'Nested_Array',\n",
              " 'admin',\n",
              " 'config',\n",
              " 'fake_Business_Clients',\n",
              " 'local',\n",
              " 'medium_gist']"
            ]
          },
          "metadata": {},
          "execution_count": 4
        }
      ]
    },
    {
      "cell_type": "code",
      "source": [
        "# Load restaurants database\n",
        "db = client.sample_restaurants"
      ],
      "metadata": {
        "id": "PV0GmzphCAhn"
      },
      "execution_count": null,
      "outputs": []
    },
    {
      "cell_type": "code",
      "source": [
        "# List the collecitons in the database\n",
        "db.list_collection_names()"
      ],
      "metadata": {
        "colab": {
          "base_uri": "https://localhost:8080/"
        },
        "id": "9tFoTcirCGI3",
        "outputId": "800bfd22-1f9f-4feb-e6eb-592eea6b1e52"
      },
      "execution_count": null,
      "outputs": [
        {
          "output_type": "execute_result",
          "data": {
            "text/plain": [
              "[]"
            ]
          },
          "metadata": {},
          "execution_count": 6
        }
      ]
    },
    {
      "cell_type": "code",
      "source": [
        "# # Number of documents in restaurants collection\n",
        "# db.Bulk_Insert.count_documents  # 25359\n",
        "\n",
        "# # Number of documents in neighborhoods collection\n",
        "# db.Nested_Array.count_documents  # 195 \n",
        "# \".find().count()\" is depricated and replaced by \".count_documents\""
      ],
      "metadata": {
        "id": "IUCa28caCOvC"
      },
      "execution_count": null,
      "outputs": []
    },
    {
      "cell_type": "code",
      "source": [
        "# Check document\n",
        "pprint(client.Bulk_Insert.Bulk.find())"
      ],
      "metadata": {
        "colab": {
          "base_uri": "https://localhost:8080/"
        },
        "id": "U1B9lcx4CXQN",
        "outputId": "eb2f4219-111f-4997-8c27-5775eaf6d14b"
      },
      "execution_count": null,
      "outputs": [
        {
          "output_type": "stream",
          "name": "stdout",
          "text": [
            "<pymongo.cursor.Cursor object at 0x7f9a11f47f90>\n"
          ]
        }
      ]
    },
    {
      "cell_type": "code",
      "source": [
        "# Check document\n",
        "pprint(client.Nested_Array.nested.find_one({\"company.name\":\"MongoDB\"},{}))"
      ],
      "metadata": {
        "colab": {
          "base_uri": "https://localhost:8080/"
        },
        "id": "CBtsM7ZREGUF",
        "outputId": "0c9bb76a-2b4e-4fd0-d04c-54a04fbb86c1"
      },
      "execution_count": null,
      "outputs": [
        {
          "output_type": "stream",
          "name": "stdout",
          "text": [
            "{'_id': '123',\n",
            " 'company': {'employees': [{'firstname': 'Maxime',\n",
            "                            'role': 'Senior Developer Advocate',\n",
            "                            'surname': 'Beugnet'}],\n",
            "             'name': 'MongoDB'}}\n"
          ]
        }
      ]
    },
    {
      "cell_type": "code",
      "source": [
        "# Get indexes\n",
        "client.Bulk_Insert.Bulk.index_information()"
      ],
      "metadata": {
        "colab": {
          "base_uri": "https://localhost:8080/"
        },
        "id": "zf-0x9EVFtSO",
        "outputId": "76728cd5-fc93-4f67-bc6d-74675f52da2d"
      },
      "execution_count": null,
      "outputs": [
        {
          "output_type": "execute_result",
          "data": {
            "text/plain": [
              "{'_id_': {'key': [('_id', 1)], 'v': 2}}"
            ]
          },
          "metadata": {},
          "execution_count": 61
        }
      ]
    },
    {
      "cell_type": "code",
      "source": [
        "pprint(ndb.find().explain())"
      ],
      "metadata": {
        "colab": {
          "base_uri": "https://localhost:8080/"
        },
        "id": "0Xa-81bjILfI",
        "outputId": "439b5fe7-7699-4cd7-df0f-7061081b16f8"
      },
      "execution_count": null,
      "outputs": [
        {
          "output_type": "stream",
          "name": "stdout",
          "text": [
            "{'executionStats': {'allPlansExecution': [],\n",
            "                    'executionStages': {'advanced': 1,\n",
            "                                        'direction': 'forward',\n",
            "                                        'docsExamined': 1,\n",
            "                                        'executionTimeMillisEstimate': 0,\n",
            "                                        'isEOF': 1,\n",
            "                                        'nReturned': 1,\n",
            "                                        'needTime': 1,\n",
            "                                        'needYield': 0,\n",
            "                                        'restoreState': 0,\n",
            "                                        'saveState': 0,\n",
            "                                        'stage': 'COLLSCAN',\n",
            "                                        'works': 3},\n",
            "                    'executionSuccess': True,\n",
            "                    'executionTimeMillis': 0,\n",
            "                    'nReturned': 1,\n",
            "                    'totalDocsExamined': 1,\n",
            "                    'totalKeysExamined': 0},\n",
            " 'ok': 1.0,\n",
            " 'queryPlanner': {'indexFilterSet': False,\n",
            "                  'namespace': 'Nested_Array.nested',\n",
            "                  'parsedQuery': {},\n",
            "                  'plannerVersion': 1,\n",
            "                  'rejectedPlans': [],\n",
            "                  'winningPlan': {'direction': 'forward', 'stage': 'COLLSCAN'}},\n",
            " 'serverInfo': {'gitVersion': '58971da1ef93435a9f62bf4708a81713def6e88c',\n",
            "                'host': 'et',\n",
            "                'port': 27017,\n",
            "                'version': '4.4.10'}}\n"
          ]
        }
      ]
    },
    {
      "cell_type": "code",
      "source": [
        "# Find American cuisine restaurants\n",
        "result = client.Bulk_Insert.Bulk.find({\"condition\" : \"good\"})\n",
        "for i in result:\n",
        "  print(i)  "
      ],
      "metadata": {
        "colab": {
          "base_uri": "https://localhost:8080/"
        },
        "id": "genZJgnBJE_U",
        "outputId": "b29a50b9-8e03-4107-d225-291f73edc6d0"
      },
      "execution_count": null,
      "outputs": [
        {
          "output_type": "stream",
          "name": "stdout",
          "text": [
            "{'_id': ObjectId('61f1112e02bf552e73d6acff'), 'condition': 'good', 'time': datetime.datetime(2022, 1, 26, 9, 15, 8, 107000), 'uuid': 'c9a22d68-7c32-4cb6-bcb1-b579f9f154d9'}\n",
            "{'_id': ObjectId('61f1112e02bf552e73d6ad00'), 'condition': 'good', 'time': datetime.datetime(2022, 1, 26, 9, 15, 8, 110000), 'uuid': '572c87b8-f34d-4202-91a4-9f315e151de9'}\n",
            "{'_id': ObjectId('61f112f602bf552e73d6ad0a'), 'condition': 'good', 'time': datetime.datetime(2022, 1, 26, 9, 22, 59, 882000), 'uuid': '76938a95-31d1-4a8b-999f-f2d63a104713'}\n",
            "{'_id': ObjectId('61f112f602bf552e73d6ad0b'), 'condition': 'good', 'time': datetime.datetime(2022, 1, 26, 9, 22, 59, 882000), 'uuid': 'bc97a9f7-a88a-47da-96a7-a0191e66c35b'}\n",
            "{'_id': ObjectId('61f112f602bf552e73d6ad0c'), 'condition': 'good', 'time': datetime.datetime(2022, 1, 26, 9, 22, 59, 882000), 'uuid': '243f4d69-f0db-4bf7-842f-dbf596bf6f4d'}\n",
            "{'_id': ObjectId('61f1130202bf552e73d6ad0e'), 'condition': 'good', 'time': datetime.datetime(2022, 1, 26, 9, 23, 10, 466000), 'uuid': '7e13ee47-e323-4694-97af-36cd20138b69'}\n"
          ]
        }
      ]
    },
    {
      "cell_type": "code",
      "source": [
        "# Query stats \n",
        "pprint(bdb.find({\"condition\" : \"bad\"}).explain()['executionStats'])"
      ],
      "metadata": {
        "id": "jI0Td7RaJs6O"
      },
      "execution_count": null,
      "outputs": []
    },
    {
      "cell_type": "code",
      "source": [
        "# Create new index\n",
        "ndb.create_index('cuisine')#type index to be displayed\n",
        "\n",
        "# Get indexes\n",
        "ndb.index_information()"
      ],
      "metadata": {
        "colab": {
          "base_uri": "https://localhost:8080/"
        },
        "id": "tmLRiSZtKfc9",
        "outputId": "962045b6-b9da-47cc-9c9a-9938e849d399"
      },
      "execution_count": null,
      "outputs": [
        {
          "output_type": "execute_result",
          "data": {
            "text/plain": [
              "{'_id_': {'key': [('_id', 1)], 'v': 2},\n",
              " 'cuisine_1': {'key': [('cuisine', 1)], 'v': 2}}"
            ]
          },
          "metadata": {},
          "execution_count": 75
        }
      ]
    },
    {
      "cell_type": "code",
      "source": [
        "# Query stats\n",
        "pprint(ndb.find({\"company.name\" : \"MongoDB\"}).explain()['executionStats'])"
      ],
      "metadata": {
        "colab": {
          "base_uri": "https://localhost:8080/"
        },
        "id": "gKZQxVMCK_oX",
        "outputId": "0496f906-19f1-49fd-87bb-41e5ab85f48e"
      },
      "execution_count": null,
      "outputs": [
        {
          "output_type": "stream",
          "name": "stdout",
          "text": [
            "{'allPlansExecution': [],\n",
            " 'executionStages': {'advanced': 1,\n",
            "                     'direction': 'forward',\n",
            "                     'docsExamined': 1,\n",
            "                     'executionTimeMillisEstimate': 0,\n",
            "                     'filter': {'company.name': {'$eq': 'MongoDB'}},\n",
            "                     'isEOF': 1,\n",
            "                     'nReturned': 1,\n",
            "                     'needTime': 1,\n",
            "                     'needYield': 0,\n",
            "                     'restoreState': 0,\n",
            "                     'saveState': 0,\n",
            "                     'stage': 'COLLSCAN',\n",
            "                     'works': 3},\n",
            " 'executionSuccess': True,\n",
            " 'executionTimeMillis': 0,\n",
            " 'nReturned': 1,\n",
            " 'totalDocsExamined': 1,\n",
            " 'totalKeysExamined': 0}\n"
          ]
        }
      ]
    },
    {
      "cell_type": "code",
      "source": [
        "# Create new index\n",
        "ndb.create_index('borough', name=\"borough_index\")\n",
        "\n",
        "# Get indexes\n",
        "ndb.index_information()"
      ],
      "metadata": {
        "colab": {
          "base_uri": "https://localhost:8080/"
        },
        "id": "8nx_Y-CuLSa8",
        "outputId": "fe6934a1-5883-4cfd-fd81-9979540aa0f7"
      },
      "execution_count": null,
      "outputs": [
        {
          "output_type": "execute_result",
          "data": {
            "text/plain": [
              "{'_id_': {'key': [('_id', 1)], 'v': 2},\n",
              " 'borough_index': {'key': [('borough', 1)], 'v': 2},\n",
              " 'cuisine_1': {'key': [('cuisine', 1)], 'v': 2}}"
            ]
          },
          "metadata": {},
          "execution_count": 77
        }
      ]
    },
    {
      "cell_type": "code",
      "source": [
        "# Drop index\n",
        "ndb.drop_index('borough_index')#type index name\n",
        "\n",
        "# Get indexes\n",
        "ndb.index_information()"
      ],
      "metadata": {
        "colab": {
          "base_uri": "https://localhost:8080/"
        },
        "id": "4goqkvfaLaa6",
        "outputId": "f4367c34-1fa7-4d55-e788-9f959806a787"
      },
      "execution_count": null,
      "outputs": [
        {
          "output_type": "execute_result",
          "data": {
            "text/plain": [
              "{'_id_': {'key': [('_id', 1)], 'v': 2}}"
            ]
          },
          "metadata": {},
          "execution_count": 80
        }
      ]
    },
    {
      "cell_type": "code",
      "source": [
        "# Drop index\n",
        "ndb.drop_indexes()\n",
        "\n",
        "# Get indexes\n",
        "ndb.index_information()"
      ],
      "metadata": {
        "colab": {
          "base_uri": "https://localhost:8080/"
        },
        "id": "vdPohITOLseL",
        "outputId": "0cdf2c4c-f8bb-4134-bfc5-34f751730172"
      },
      "execution_count": null,
      "outputs": [
        {
          "output_type": "execute_result",
          "data": {
            "text/plain": [
              "{'_id_': {'key': [('_id', 1)], 'v': 2}}"
            ]
          },
          "metadata": {},
          "execution_count": 84
        }
      ]
    },
    {
      "cell_type": "code",
      "source": [
        "bdb.distinct('ObjectId(\"61f112f602bf552e73d6ad0b\")')"
      ],
      "metadata": {
        "colab": {
          "base_uri": "https://localhost:8080/"
        },
        "id": "LnZC9RCUMB1x",
        "outputId": "3c49411b-d321-451f-9cdc-05e09602b11d"
      },
      "execution_count": null,
      "outputs": [
        {
          "output_type": "execute_result",
          "data": {
            "text/plain": [
              "[]"
            ]
          },
          "metadata": {},
          "execution_count": 85
        }
      ]
    }
  ]
}