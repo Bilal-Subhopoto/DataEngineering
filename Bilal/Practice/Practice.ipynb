{
  "nbformat": 4,
  "nbformat_minor": 0,
  "metadata": {
    "colab": {
      "name": "Practice.ipynb",
      "provenance": [],
      "collapsed_sections": [],
      "authorship_tag": "ABX9TyOodIu1SVeBMD/U9Z5sa/NI",
      "include_colab_link": true
    },
    "kernelspec": {
      "name": "python3",
      "display_name": "Python 3"
    },
    "language_info": {
      "name": "python"
    }
  },
  "cells": [
    {
      "cell_type": "markdown",
      "metadata": {
        "id": "view-in-github",
        "colab_type": "text"
      },
      "source": [
        "<a href=\"https://colab.research.google.com/github/Bilal-Subhopoto/DataEngineering/blob/main/Bilal/Practice/Practice.ipynb\" target=\"_parent\"><img src=\"https://colab.research.google.com/assets/colab-badge.svg\" alt=\"Open In Colab\"/></a>"
      ]
    },
    {
      "cell_type": "code",
      "source": [
        "# extract domain name between two dots(.)\n",
        "linkkk  = \"https://www.placesofjuma.com/work-with-travel-blog-placesofjuma/\"\n",
        "slink = linkkk.split('.')[1].strip()\n",
        "slink"
      ],
      "metadata": {
        "colab": {
          "base_uri": "https://localhost:8080/",
          "height": 35
        },
        "id": "0Rh9YtomPy4q",
        "outputId": "2957f2a1-177d-4f2c-ea17-6836c2164451"
      },
      "execution_count": null,
      "outputs": [
        {
          "output_type": "execute_result",
          "data": {
            "application/vnd.google.colaboratory.intrinsic+json": {
              "type": "string"
            },
            "text/plain": [
              "'placesofjuma'"
            ]
          },
          "metadata": {},
          "execution_count": 3
        }
      ]
    },
    {
      "cell_type": "code",
      "source": [
        "# redis practice\n",
        "!pip install redis"
      ],
      "metadata": {
        "colab": {
          "base_uri": "https://localhost:8080/"
        },
        "id": "h5Hk_JB-lFjh",
        "outputId": "70e321d9-dbe8-49d8-c1ed-ea40ed4e6360"
      },
      "execution_count": null,
      "outputs": [
        {
          "output_type": "stream",
          "name": "stdout",
          "text": [
            "Collecting redis\n",
            "  Downloading redis-4.0.2-py3-none-any.whl (119 kB)\n",
            "\u001b[?25l\r\u001b[K     |██▊                             | 10 kB 16.9 MB/s eta 0:00:01\r\u001b[K     |█████▌                          | 20 kB 23.8 MB/s eta 0:00:01\r\u001b[K     |████████▏                       | 30 kB 16.4 MB/s eta 0:00:01\r\u001b[K     |███████████                     | 40 kB 11.7 MB/s eta 0:00:01\r\u001b[K     |█████████████▊                  | 51 kB 5.7 MB/s eta 0:00:01\r\u001b[K     |████████████████▍               | 61 kB 5.8 MB/s eta 0:00:01\r\u001b[K     |███████████████████▏            | 71 kB 5.5 MB/s eta 0:00:01\r\u001b[K     |██████████████████████          | 81 kB 6.2 MB/s eta 0:00:01\r\u001b[K     |████████████████████████▋       | 92 kB 6.0 MB/s eta 0:00:01\r\u001b[K     |███████████████████████████▍    | 102 kB 5.4 MB/s eta 0:00:01\r\u001b[K     |██████████████████████████████▏ | 112 kB 5.4 MB/s eta 0:00:01\r\u001b[K     |████████████████████████████████| 119 kB 5.4 MB/s \n",
            "\u001b[?25hCollecting deprecated\n",
            "  Downloading Deprecated-1.2.13-py2.py3-none-any.whl (9.6 kB)\n",
            "Requirement already satisfied: wrapt<2,>=1.10 in /usr/local/lib/python3.7/dist-packages (from deprecated->redis) (1.13.3)\n",
            "Installing collected packages: deprecated, redis\n",
            "Successfully installed deprecated-1.2.13 redis-4.0.2\n"
          ]
        }
      ]
    },
    {
      "cell_type": "code",
      "source": [
        "# masterDB = redis.Redis(host='localhost', port=6379, db=0)\n",
        "\n",
        "# import redis\n",
        "\n",
        "#     keys=masterDB.keys()   #returns all the existing keys of DB-0\n",
        "#     listcols=[] #\n",
        "#     for key in keys:\n",
        "#         print(key.decode(\"utf-8\")) #key.decode, every key needs to be decoded to use in python\n",
        "#         # listcols.append()\n",
        "#         todayDB.sadd('allurls',key.decode(\"utf-8\")) #add a new key-value or replace existing value in a set\n",
        "\n",
        "        \n",
        "\n",
        "#         rssFeedUrls= masterDB.smembers(domain) #returns members/value of each key\n",
        "\n",
        "\n",
        "#         for feedUrl in rssFeedUrls:\n",
        "#             decodedFeedUrl=feedUrl.decode(\"utf-8\")#decoded urls for python compatibility\n",
        "            "
      ],
      "metadata": {
        "id": "kaFXFiT_lMsk"
      },
      "execution_count": null,
      "outputs": []
    },
    {
      "cell_type": "code",
      "source": [
        "sitenames = \"\"\"Yahoo-ABC News Network\n",
        "CNN\n",
        "NBC News\n",
        "Huffington Post\n",
        "CBS News\n",
        "USAToday\n",
        "BuzzFeed\n",
        "New York Times\n",
        "Fox News Digital Network\n",
        "Daily Mail\n",
        "Washington Post\n",
        "Bleacher Report\n",
        "Business Insider\n",
        "Elite Daily\n",
        "BBC\n",
        "CNET\n",
        "Guardian\n",
        "MSN News\n",
        "NPR\n",
        "New York Daily News\n",
        "Los Angeles Times\n",
        "New York Post\n",
        "Time\n",
        "Mashable\n",
        "SFGate\n",
        "Slate\n",
        "Upworthy\n",
        "TheBlaze\n",
        "Telegraph\n",
        "U.S. News\n",
        "Vice\n",
        "Chron\n",
        "Gawker\n",
        "Examiner\n",
        "Vox\n",
        "Chicago Tribune\n",
        "Daily Beast\n",
        "Salon\n",
        "Mic\n",
        "Mirror Online\n",
        "NJ.com\n",
        "Independent\n",
        "Detroit Free Press\n",
        "Boston Globe\n",
        "Atlantic\n",
        "MLive\n",
        "Engadget\n",
        "TechCrunch\n",
        "Boston.com\n",
        "AL.com\n",
        "Dallas Morning News\"\"\"\n",
        "sitenames_list = [y for y in (x.strip() for x in sitenames.splitlines()) if y]\n",
        "sitenames_list"
      ],
      "metadata": {
        "id": "br_ZRjaEph2h"
      },
      "execution_count": null,
      "outputs": []
    },
    {
      "cell_type": "code",
      "source": [
        "import redis\n",
        "masterDB = redis.Redis(host='43.251.253.107', port=1500, db=0)\n",
        "DB1 = redis.Redis(host='43.251.253.107', port=1500, db=1)\n",
        "for key0 in sitenames_list:#insert sitenames_list into masterdb data structure\n",
        "  masterDB.sadd(key0,'sitename') #boston.com:'sitename' = {'boster.com':'sitename'} using for loop\n",
        "  # print(key0, masterDB.smembers(key0)) #sadd function will be used to insert key-value\n"
      ],
      "metadata": {
        "id": "aViRyp9fnl01"
      },
      "execution_count": null,
      "outputs": []
    },
    {
      "cell_type": "code",
      "source": [
        "All_keys = []\n",
        "for key1 in masterDB.scan_iter():\n",
        "  print(key1)\n",
        "  key11 = key1.decode(\"utf-8\")\n",
        "  print(key11)\n",
        "  All_keys.append(key11)# read all the keys from redis into python list\n",
        "  \n",
        "  masterDB.spop(key1)# loop over the above list and delete each entry from redis\n",
        "print(All_keys)"
      ],
      "metadata": {
        "colab": {
          "base_uri": "https://localhost:8080/",
          "height": 747
        },
        "id": "VaUeIVthq7Bi",
        "outputId": "c050e227-4b49-4a75-fdfc-e965ad677cfd"
      },
      "execution_count": null,
      "outputs": [
        {
          "output_type": "stream",
          "name": "stdout",
          "text": [
            "b'Telegraph'\n",
            "Telegraph\n",
            "b'Time'\n",
            "Time\n",
            "b'Business Insider'\n",
            "Business Insider\n",
            "b'Vox'\n",
            "Vox\n",
            "b'Boston.com'\n",
            "Boston.com\n",
            "b'Boston Globe'\n",
            "Boston Globe\n",
            "b'Fox News Digital Network'\n",
            "Fox News Digital Network\n",
            "b'New York Daily News'\n",
            "New York Daily News\n",
            "b'CBS News'\n",
            "CBS News\n",
            "b'Huffington Post'\n",
            "Huffington Post\n",
            "b'abczzz'\n",
            "abczzz\n"
          ]
        },
        {
          "output_type": "error",
          "ename": "ResponseError",
          "evalue": "ignored",
          "traceback": [
            "\u001b[0;31m---------------------------------------------------------------------------\u001b[0m",
            "\u001b[0;31mResponseError\u001b[0m                             Traceback (most recent call last)",
            "\u001b[0;32m<ipython-input-30-416be50305cb>\u001b[0m in \u001b[0;36m<module>\u001b[0;34m()\u001b[0m\n\u001b[1;32m      6\u001b[0m   \u001b[0mAll_keys\u001b[0m\u001b[0;34m.\u001b[0m\u001b[0mappend\u001b[0m\u001b[0;34m(\u001b[0m\u001b[0mkey11\u001b[0m\u001b[0;34m)\u001b[0m\u001b[0;31m# read all the keys from redis into python list\u001b[0m\u001b[0;34m\u001b[0m\u001b[0;34m\u001b[0m\u001b[0m\n\u001b[1;32m      7\u001b[0m \u001b[0;34m\u001b[0m\u001b[0m\n\u001b[0;32m----> 8\u001b[0;31m   \u001b[0mmasterDB\u001b[0m\u001b[0;34m.\u001b[0m\u001b[0mspop\u001b[0m\u001b[0;34m(\u001b[0m\u001b[0mkey1\u001b[0m\u001b[0;34m)\u001b[0m\u001b[0;31m# loop over the above list and delete each entry from redis\u001b[0m\u001b[0;34m\u001b[0m\u001b[0;34m\u001b[0m\u001b[0m\n\u001b[0m\u001b[1;32m      9\u001b[0m \u001b[0mprint\u001b[0m\u001b[0;34m(\u001b[0m\u001b[0mAll_keys\u001b[0m\u001b[0;34m)\u001b[0m\u001b[0;34m\u001b[0m\u001b[0;34m\u001b[0m\u001b[0m\n",
            "\u001b[0;32m/usr/local/lib/python3.7/dist-packages/redis/commands/core.py\u001b[0m in \u001b[0;36mspop\u001b[0;34m(self, name, count)\u001b[0m\n\u001b[1;32m   2167\u001b[0m         \"\"\"\n\u001b[1;32m   2168\u001b[0m         \u001b[0margs\u001b[0m \u001b[0;34m=\u001b[0m \u001b[0;34m(\u001b[0m\u001b[0mcount\u001b[0m \u001b[0;32mis\u001b[0m \u001b[0;32mnot\u001b[0m \u001b[0;32mNone\u001b[0m\u001b[0;34m)\u001b[0m \u001b[0;32mand\u001b[0m \u001b[0;34m[\u001b[0m\u001b[0mcount\u001b[0m\u001b[0;34m]\u001b[0m \u001b[0;32mor\u001b[0m \u001b[0;34m[\u001b[0m\u001b[0;34m]\u001b[0m\u001b[0;34m\u001b[0m\u001b[0;34m\u001b[0m\u001b[0m\n\u001b[0;32m-> 2169\u001b[0;31m         \u001b[0;32mreturn\u001b[0m \u001b[0mself\u001b[0m\u001b[0;34m.\u001b[0m\u001b[0mexecute_command\u001b[0m\u001b[0;34m(\u001b[0m\u001b[0;34m'SPOP'\u001b[0m\u001b[0;34m,\u001b[0m \u001b[0mname\u001b[0m\u001b[0;34m,\u001b[0m \u001b[0;34m*\u001b[0m\u001b[0margs\u001b[0m\u001b[0;34m)\u001b[0m\u001b[0;34m\u001b[0m\u001b[0;34m\u001b[0m\u001b[0m\n\u001b[0m\u001b[1;32m   2170\u001b[0m \u001b[0;34m\u001b[0m\u001b[0m\n\u001b[1;32m   2171\u001b[0m     \u001b[0;32mdef\u001b[0m \u001b[0msrandmember\u001b[0m\u001b[0;34m(\u001b[0m\u001b[0mself\u001b[0m\u001b[0;34m,\u001b[0m \u001b[0mname\u001b[0m\u001b[0;34m,\u001b[0m \u001b[0mnumber\u001b[0m\u001b[0;34m=\u001b[0m\u001b[0;32mNone\u001b[0m\u001b[0;34m)\u001b[0m\u001b[0;34m:\u001b[0m\u001b[0;34m\u001b[0m\u001b[0;34m\u001b[0m\u001b[0m\n",
            "\u001b[0;32m/usr/local/lib/python3.7/dist-packages/redis/client.py\u001b[0m in \u001b[0;36mexecute_command\u001b[0;34m(self, *args, **options)\u001b[0m\n\u001b[1;32m   1074\u001b[0m                                                           \u001b[0;34m*\u001b[0m\u001b[0margs\u001b[0m\u001b[0;34m,\u001b[0m\u001b[0;34m\u001b[0m\u001b[0;34m\u001b[0m\u001b[0m\n\u001b[1;32m   1075\u001b[0m                                                           **options),\n\u001b[0;32m-> 1076\u001b[0;31m                 lambda error: self._disconnect_raise(conn, error))\n\u001b[0m\u001b[1;32m   1077\u001b[0m         \u001b[0;32mfinally\u001b[0m\u001b[0;34m:\u001b[0m\u001b[0;34m\u001b[0m\u001b[0;34m\u001b[0m\u001b[0m\n\u001b[1;32m   1078\u001b[0m             \u001b[0;32mif\u001b[0m \u001b[0;32mnot\u001b[0m \u001b[0mself\u001b[0m\u001b[0;34m.\u001b[0m\u001b[0mconnection\u001b[0m\u001b[0;34m:\u001b[0m\u001b[0;34m\u001b[0m\u001b[0;34m\u001b[0m\u001b[0m\n",
            "\u001b[0;32m/usr/local/lib/python3.7/dist-packages/redis/retry.py\u001b[0m in \u001b[0;36mcall_with_retry\u001b[0;34m(self, do, fail)\u001b[0m\n\u001b[1;32m     30\u001b[0m         \u001b[0;32mwhile\u001b[0m \u001b[0;32mTrue\u001b[0m\u001b[0;34m:\u001b[0m\u001b[0;34m\u001b[0m\u001b[0;34m\u001b[0m\u001b[0m\n\u001b[1;32m     31\u001b[0m             \u001b[0;32mtry\u001b[0m\u001b[0;34m:\u001b[0m\u001b[0;34m\u001b[0m\u001b[0;34m\u001b[0m\u001b[0m\n\u001b[0;32m---> 32\u001b[0;31m                 \u001b[0;32mreturn\u001b[0m \u001b[0mdo\u001b[0m\u001b[0;34m(\u001b[0m\u001b[0;34m)\u001b[0m\u001b[0;34m\u001b[0m\u001b[0;34m\u001b[0m\u001b[0m\n\u001b[0m\u001b[1;32m     33\u001b[0m             \u001b[0;32mexcept\u001b[0m \u001b[0mself\u001b[0m\u001b[0;34m.\u001b[0m\u001b[0m_supported_errors\u001b[0m \u001b[0;32mas\u001b[0m \u001b[0merror\u001b[0m\u001b[0;34m:\u001b[0m\u001b[0;34m\u001b[0m\u001b[0;34m\u001b[0m\u001b[0m\n\u001b[1;32m     34\u001b[0m                 \u001b[0mfailures\u001b[0m \u001b[0;34m+=\u001b[0m \u001b[0;36m1\u001b[0m\u001b[0;34m\u001b[0m\u001b[0;34m\u001b[0m\u001b[0m\n",
            "\u001b[0;32m/usr/local/lib/python3.7/dist-packages/redis/client.py\u001b[0m in \u001b[0;36m<lambda>\u001b[0;34m()\u001b[0m\n\u001b[1;32m   1073\u001b[0m                                                           \u001b[0mcommand_name\u001b[0m\u001b[0;34m,\u001b[0m\u001b[0;34m\u001b[0m\u001b[0;34m\u001b[0m\u001b[0m\n\u001b[1;32m   1074\u001b[0m                                                           \u001b[0;34m*\u001b[0m\u001b[0margs\u001b[0m\u001b[0;34m,\u001b[0m\u001b[0;34m\u001b[0m\u001b[0;34m\u001b[0m\u001b[0m\n\u001b[0;32m-> 1075\u001b[0;31m                                                           **options),\n\u001b[0m\u001b[1;32m   1076\u001b[0m                 lambda error: self._disconnect_raise(conn, error))\n\u001b[1;32m   1077\u001b[0m         \u001b[0;32mfinally\u001b[0m\u001b[0;34m:\u001b[0m\u001b[0;34m\u001b[0m\u001b[0;34m\u001b[0m\u001b[0m\n",
            "\u001b[0;32m/usr/local/lib/python3.7/dist-packages/redis/client.py\u001b[0m in \u001b[0;36m_send_command_parse_response\u001b[0;34m(self, conn, command_name, *args, **options)\u001b[0m\n\u001b[1;32m   1049\u001b[0m         \"\"\"\n\u001b[1;32m   1050\u001b[0m         \u001b[0mconn\u001b[0m\u001b[0;34m.\u001b[0m\u001b[0msend_command\u001b[0m\u001b[0;34m(\u001b[0m\u001b[0;34m*\u001b[0m\u001b[0margs\u001b[0m\u001b[0;34m)\u001b[0m\u001b[0;34m\u001b[0m\u001b[0;34m\u001b[0m\u001b[0m\n\u001b[0;32m-> 1051\u001b[0;31m         \u001b[0;32mreturn\u001b[0m \u001b[0mself\u001b[0m\u001b[0;34m.\u001b[0m\u001b[0mparse_response\u001b[0m\u001b[0;34m(\u001b[0m\u001b[0mconn\u001b[0m\u001b[0;34m,\u001b[0m \u001b[0mcommand_name\u001b[0m\u001b[0;34m,\u001b[0m \u001b[0;34m**\u001b[0m\u001b[0moptions\u001b[0m\u001b[0;34m)\u001b[0m\u001b[0;34m\u001b[0m\u001b[0;34m\u001b[0m\u001b[0m\n\u001b[0m\u001b[1;32m   1052\u001b[0m \u001b[0;34m\u001b[0m\u001b[0m\n\u001b[1;32m   1053\u001b[0m     \u001b[0;32mdef\u001b[0m \u001b[0m_disconnect_raise\u001b[0m\u001b[0;34m(\u001b[0m\u001b[0mself\u001b[0m\u001b[0;34m,\u001b[0m \u001b[0mconn\u001b[0m\u001b[0;34m,\u001b[0m \u001b[0merror\u001b[0m\u001b[0;34m)\u001b[0m\u001b[0;34m:\u001b[0m\u001b[0;34m\u001b[0m\u001b[0;34m\u001b[0m\u001b[0m\n",
            "\u001b[0;32m/usr/local/lib/python3.7/dist-packages/redis/client.py\u001b[0m in \u001b[0;36mparse_response\u001b[0;34m(self, connection, command_name, **options)\u001b[0m\n\u001b[1;32m   1082\u001b[0m         \u001b[0;34m\"Parses a response from the Redis server\"\u001b[0m\u001b[0;34m\u001b[0m\u001b[0;34m\u001b[0m\u001b[0m\n\u001b[1;32m   1083\u001b[0m         \u001b[0;32mtry\u001b[0m\u001b[0;34m:\u001b[0m\u001b[0;34m\u001b[0m\u001b[0;34m\u001b[0m\u001b[0m\n\u001b[0;32m-> 1084\u001b[0;31m             \u001b[0mresponse\u001b[0m \u001b[0;34m=\u001b[0m \u001b[0mconnection\u001b[0m\u001b[0;34m.\u001b[0m\u001b[0mread_response\u001b[0m\u001b[0;34m(\u001b[0m\u001b[0;34m)\u001b[0m\u001b[0;34m\u001b[0m\u001b[0;34m\u001b[0m\u001b[0m\n\u001b[0m\u001b[1;32m   1085\u001b[0m         \u001b[0;32mexcept\u001b[0m \u001b[0mResponseError\u001b[0m\u001b[0;34m:\u001b[0m\u001b[0;34m\u001b[0m\u001b[0;34m\u001b[0m\u001b[0m\n\u001b[1;32m   1086\u001b[0m             \u001b[0;32mif\u001b[0m \u001b[0mEMPTY_RESPONSE\u001b[0m \u001b[0;32min\u001b[0m \u001b[0moptions\u001b[0m\u001b[0;34m:\u001b[0m\u001b[0;34m\u001b[0m\u001b[0;34m\u001b[0m\u001b[0m\n",
            "\u001b[0;32m/usr/local/lib/python3.7/dist-packages/redis/connection.py\u001b[0m in \u001b[0;36mread_response\u001b[0;34m(self)\u001b[0m\n\u001b[1;32m    763\u001b[0m \u001b[0;34m\u001b[0m\u001b[0m\n\u001b[1;32m    764\u001b[0m         \u001b[0;32mif\u001b[0m \u001b[0misinstance\u001b[0m\u001b[0;34m(\u001b[0m\u001b[0mresponse\u001b[0m\u001b[0;34m,\u001b[0m \u001b[0mResponseError\u001b[0m\u001b[0;34m)\u001b[0m\u001b[0;34m:\u001b[0m\u001b[0;34m\u001b[0m\u001b[0;34m\u001b[0m\u001b[0m\n\u001b[0;32m--> 765\u001b[0;31m             \u001b[0;32mraise\u001b[0m \u001b[0mresponse\u001b[0m\u001b[0;34m\u001b[0m\u001b[0;34m\u001b[0m\u001b[0m\n\u001b[0m\u001b[1;32m    766\u001b[0m         \u001b[0;32mreturn\u001b[0m \u001b[0mresponse\u001b[0m\u001b[0;34m\u001b[0m\u001b[0;34m\u001b[0m\u001b[0m\n\u001b[1;32m    767\u001b[0m \u001b[0;34m\u001b[0m\u001b[0m\n",
            "\u001b[0;31mResponseError\u001b[0m: WRONGTYPE Operation against a key holding the wrong kind of value"
          ]
        }
      ]
    },
    {
      "cell_type": "code",
      "source": [
        "# for t in sitenames_list:\n",
        "#   tt = 'facebook.com '+t\n",
        "#   print(tt)\n",
        "#   a = search(tt,num=1)\n",
        "#   for inn in a:\n",
        "#     print(inn)\n",
        "#     string_in_slashes = inn.split('/')[3].strip()\n",
        "#     laist.append(string_in_slashes)\n",
        "#     break\n",
        "# print(laist)\n",
        "# practice\n",
        "# laist = []\n",
        "# t = 'bbc'\n",
        "# searchRes = search('facebook.com '+t)\n",
        "# for ur in searchRes:\n",
        "#   string_in_slashes = ur.split('/')[3].strip()\n",
        "#   laist.append(string_in_slashes)\n",
        "#   break\n",
        "# print(laist)\n",
        "# practice\n",
        "\n",
        "# # urls = ['http://www.someurl.com/folder-1/somestring/01.pdf',\n",
        "# # 'http://www.someurl.com/folders1531as12/anotherstring/183.pdf',\n",
        "# # 'http://www.someurl.com/folder-dsa990s/nostring/46798.pdf']\n",
        "\n",
        "# # for url in urls:\n",
        "# #   # listToStr = ' '.join([str(elem) for elem in url.split('/')[2:3]])\n",
        "# #   print(url.split('/')[2:3])\n",
        "# #   # print(listToStr)\n",
        "# for x in range(1, 10):\n",
        "#   print(x)\n",
        "#   if x == 4:\n",
        "#     print(x)#prints 4 only\n",
        "#     break\n",
        "#   print(x)#prints 1,2,3\n",
        "# practice"
      ],
      "metadata": {
        "id": "GgzqsaIc83EP"
      },
      "execution_count": null,
      "outputs": []
    },
    {
      "cell_type": "code",
      "source": [
        "# sitenames = \"\"\"Yahoo-ABC News Network\n",
        "# CNN\n",
        "# NBC News\n",
        "# Huffington Post\n",
        "# CBS News\n",
        "# USAToday\n",
        "# BuzzFeed\n",
        "# New York Times\n",
        "# Fox News Digital Network\n",
        "# Daily Mail\n",
        "# Washington Post\n",
        "# Bleacher Report\n",
        "# Business Insider\n",
        "# Elite Daily\n",
        "# BBC\n",
        "# CNET\n",
        "# Guardian\n",
        "# MSN News\n",
        "# NPR\n",
        "# New York Daily News\n",
        "# Los Angeles Times\n",
        "# New York Post\n",
        "# Time\n",
        "# Mashable\n",
        "# SFGate\n",
        "# Slate\n",
        "# Upworthy\n",
        "# TheBlaze\n",
        "# Telegraph\n",
        "# U.S. News\n",
        "# Vice\n",
        "# Chron\n",
        "# Gawker\n",
        "# Examiner\n",
        "# Vox\n",
        "# Chicago Tribune\n",
        "# Daily Beast\n",
        "# Salon\n",
        "# Mic\n",
        "# Mirror Online\n",
        "# NJ.com\n",
        "# Independent\n",
        "# Detroit Free Press\n",
        "# Boston Globe\n",
        "# Atlantic\n",
        "# MLive\n",
        "# Engadget\n",
        "# TechCrunch\n",
        "# Boston.com\n",
        "# AL.com\n",
        "# Dallas Morning News\"\"\"\n",
        "# # print(sitenames)\n",
        "# sitenames_list = [y for y in (x.strip() for x in sitenames.splitlines()) if y]\n",
        "# # if x.strip() is used to remove empty lines"
      ],
      "metadata": {
        "id": "CuWcIHcyWave"
      },
      "execution_count": null,
      "outputs": []
    },
    {
      "cell_type": "code",
      "source": [
        "##using manually entered list \n",
        "# urls = []\n",
        "# pageNames = ''\n",
        "# for ttls in sitenames_list:\n",
        "#   urls.append(pageNames)\n",
        "#   try:\n",
        "#     resp=search(\"facebook.com \"+ttls, num=6)   \n",
        "#     time.sleep(random.randint(5,12))\n",
        "#     for link in resp:\n",
        "#       childFLD=tldextract.extract(link)\n",
        "#       childFLD=childFLD.domain\n",
        "#       if childFLD==\"facebook\":\n",
        "#         try:\n",
        "#           print(link)\n",
        "#           pageNames = link.split('/')[3].strip()\n",
        "#           # pageNames = link.split('/')[2:3]use either\n",
        "#           print(pageNames)\n",
        "#         except Exception as e:\n",
        "#           print(e)\n",
        "#         break\n",
        "#   except Exception as e:\n",
        "#     print(e)"
      ],
      "metadata": {
        "id": "UNG3AeQvWd7O"
      },
      "execution_count": null,
      "outputs": []
    },
    {
      "cell_type": "code",
      "source": [
        "# # fb urls to extract posts data\n",
        "\n",
        "# fields = ('comments','link','likes','images','shared_time','text','post_id','reactions','shares','user_id','time','timestamp','time')\n",
        "# # fbPages = ('ABCNews','cnn','NBCNews','mlive','TheIndependentOnline','thedailybeast','WashingtonExaminer','Gawker','Upworthy','chroncom','Slate','bleacherreport','EliteDaily','washingtonpost','DailyMail','nytimes','BuzzFeed','usatoday','CBSNews','HuffPost')\n",
        "# for fbp in urls:\n",
        "#   try:\n",
        "#     for post in get_posts(fbp, pages= 3,cookies= 'cookies.txt'):\n",
        "#       collection = {'pgName':fbp}\n",
        "#       for items in fields:\n",
        "#         collection[items] = (post[items])\n",
        "#       x = mycol.insert_one(collection) \n",
        "#   except Exception as e:\n",
        "#     print(e)"
      ],
      "metadata": {
        "id": "tHg-3drrWehM"
      },
      "execution_count": null,
      "outputs": []
    }
  ]
}