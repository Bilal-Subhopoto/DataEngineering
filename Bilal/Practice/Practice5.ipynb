{
  "nbformat": 4,
  "nbformat_minor": 0,
  "metadata": {
    "colab": {
      "name": "Untitled1.ipynb",
      "provenance": [],
      "authorship_tag": "ABX9TyOsV1x9bzp9TTp7i1nCMtRD",
      "include_colab_link": true
    },
    "kernelspec": {
      "name": "python3",
      "display_name": "Python 3"
    },
    "language_info": {
      "name": "python"
    }
  },
  "cells": [
    {
      "cell_type": "markdown",
      "metadata": {
        "id": "view-in-github",
        "colab_type": "text"
      },
      "source": [
        "<a href=\"https://colab.research.google.com/github/Bilal-Subhopoto/DataEngineering/blob/main/Bilal/Practice/Practice5.ipynb\" target=\"_parent\"><img src=\"https://colab.research.google.com/assets/colab-badge.svg\" alt=\"Open In Colab\"/></a>"
      ]
    },
    {
      "cell_type": "code",
      "source": [
        "!pip install tldextract"
      ],
      "metadata": {
        "colab": {
          "base_uri": "https://localhost:8080/"
        },
        "id": "C7OODGzb1aU8",
        "outputId": "059653e6-9840-49da-e6c5-13296a22898b"
      },
      "execution_count": null,
      "outputs": [
        {
          "output_type": "stream",
          "name": "stdout",
          "text": [
            "Collecting tldextract\n",
            "  Downloading tldextract-3.1.2-py2.py3-none-any.whl (87 kB)\n",
            "\u001b[?25l\r\u001b[K     |███▊                            | 10 kB 16.9 MB/s eta 0:00:01\r\u001b[K     |███████▌                        | 20 kB 18.9 MB/s eta 0:00:01\r\u001b[K     |███████████▎                    | 30 kB 11.2 MB/s eta 0:00:01\r\u001b[K     |███████████████                 | 40 kB 9.5 MB/s eta 0:00:01\r\u001b[K     |██████████████████▉             | 51 kB 4.6 MB/s eta 0:00:01\r\u001b[K     |██████████████████████▋         | 61 kB 4.9 MB/s eta 0:00:01\r\u001b[K     |██████████████████████████▍     | 71 kB 4.9 MB/s eta 0:00:01\r\u001b[K     |██████████████████████████████  | 81 kB 5.5 MB/s eta 0:00:01\r\u001b[K     |████████████████████████████████| 87 kB 3.0 MB/s \n",
            "\u001b[?25hRequirement already satisfied: requests>=2.1.0 in /usr/local/lib/python3.7/dist-packages (from tldextract) (2.23.0)\n",
            "Requirement already satisfied: filelock>=3.0.8 in /usr/local/lib/python3.7/dist-packages (from tldextract) (3.4.0)\n",
            "Collecting requests-file>=1.4\n",
            "  Downloading requests_file-1.5.1-py2.py3-none-any.whl (3.7 kB)\n",
            "Requirement already satisfied: idna in /usr/local/lib/python3.7/dist-packages (from tldextract) (2.10)\n",
            "Requirement already satisfied: chardet<4,>=3.0.2 in /usr/local/lib/python3.7/dist-packages (from requests>=2.1.0->tldextract) (3.0.4)\n",
            "Requirement already satisfied: certifi>=2017.4.17 in /usr/local/lib/python3.7/dist-packages (from requests>=2.1.0->tldextract) (2021.10.8)\n",
            "Requirement already satisfied: urllib3!=1.25.0,!=1.25.1,<1.26,>=1.21.1 in /usr/local/lib/python3.7/dist-packages (from requests>=2.1.0->tldextract) (1.24.3)\n",
            "Requirement already satisfied: six in /usr/local/lib/python3.7/dist-packages (from requests-file>=1.4->tldextract) (1.15.0)\n",
            "Installing collected packages: requests-file, tldextract\n",
            "Successfully installed requests-file-1.5.1 tldextract-3.1.2\n"
          ]
        }
      ]
    },
    {
      "cell_type": "code",
      "execution_count": null,
      "metadata": {
        "id": "GyDq2AdA1LTQ"
      },
      "outputs": [],
      "source": [
        "from googlesearch import search\n",
        "import tldextract\n",
        "import time\n",
        "from pymongo import MongoClient\n",
        "import random\n",
        "\n",
        "\n",
        "def getFacebookData(title,posturl,domain):\n",
        "    try:\n",
        "        resp=search(\"facebook.com \"+title, num_results=20)\n",
        "        time.sleep(random.randint(5,12))\n",
        "        for link in resp:\n",
        "            childFLD=tldextract.extract(link)\n",
        "            childFLD=childFLD.domain\n",
        "            if childFLD==\"facebook\":\n",
        "                try:\n",
        "                    print(link)\n",
        "                    client = MongoClient('localhost',27017)\n",
        "                    db = client.f_pages_on_google\n",
        "                    col = db.pages_google\n",
        "                    obj={\"fb_url\":link,\"post_ulr\":posturl,\"post_domain\":domain}\n",
        "#                     print(obj)\n",
        "                    result=col.insert_one(obj)\n",
        "#                     print(result)\n",
        "                except Exception as e:    \n",
        "                    print(e)\n",
        "    except Exception as e:\n",
        "        print(e)\n",
        "getFacebookData(bbc,)"
      ]
    }
  ]
}