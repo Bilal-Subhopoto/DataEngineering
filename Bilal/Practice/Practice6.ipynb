{
  "nbformat": 4,
  "nbformat_minor": 0,
  "metadata": {
    "colab": {
      "name": "Untitled0.ipynb",
      "provenance": [],
      "authorship_tag": "ABX9TyPZ1iVhs6uDeb7SfaDylV/w",
      "include_colab_link": true
    },
    "kernelspec": {
      "name": "python3",
      "display_name": "Python 3"
    },
    "language_info": {
      "name": "python"
    }
  },
  "cells": [
    {
      "cell_type": "markdown",
      "metadata": {
        "id": "view-in-github",
        "colab_type": "text"
      },
      "source": [
        "<a href=\"https://colab.research.google.com/github/Bilal-Subhopoto/DataEngineering/blob/main/Bilal/Practice/Practice6.ipynb\" target=\"_parent\"><img src=\"https://colab.research.google.com/assets/colab-badge.svg\" alt=\"Open In Colab\"/></a>"
      ]
    },
    {
      "cell_type": "code",
      "execution_count": null,
      "metadata": {
        "id": "-4pvNk90IWuJ"
      },
      "outputs": [],
      "source": [
        "def find_max(nums):\n",
        "  max_num = float(\"-inf\") # smaller than all other numbers\n",
        "  for num in nums:\n",
        "    if num > max_num:\n",
        "      max_num = num\n",
        "    return max_num\n",
        " "
      ]
    },
    {
      "cell_type": "code",
      "source": [
        "import numpy\n",
        "# nums = numpy.arange(1,20)\n",
        "# print(20)\n",
        "nums = [2,3,4,5,6]\n",
        "find_max(nums)"
      ],
      "metadata": {
        "colab": {
          "base_uri": "https://localhost:8080/"
        },
        "id": "G-wT8MpWI4QI",
        "outputId": "40e815bd-7e18-4041-fc18-38c132bb20dc"
      },
      "execution_count": null,
      "outputs": [
        {
          "output_type": "execute_result",
          "data": {
            "text/plain": [
              "2"
            ]
          },
          "metadata": {},
          "execution_count": 24
        }
      ]
    },
    {
      "cell_type": "code",
      "source": [
        ""
      ],
      "metadata": {
        "id": "D7qqV0JyJDvs"
      },
      "execution_count": null,
      "outputs": []
    }
  ]
}